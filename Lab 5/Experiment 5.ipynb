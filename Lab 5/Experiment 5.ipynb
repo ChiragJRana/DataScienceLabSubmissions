{
 "cells": [
  {
   "cell_type": "code",
   "execution_count": 1,
   "id": "6281a6c1",
   "metadata": {
    "_cell_guid": "b1076dfc-b9ad-4769-8c92-a6c4dae69d19",
    "_uuid": "8f2839f25d086af736a60e9eeb907d3b93b6e0e5",
    "execution": {
     "iopub.execute_input": "2022-03-03T07:40:35.286858Z",
     "iopub.status.busy": "2022-03-03T07:40:35.285766Z",
     "iopub.status.idle": "2022-03-03T07:40:35.296914Z",
     "shell.execute_reply": "2022-03-03T07:40:35.296338Z",
     "shell.execute_reply.started": "2022-03-03T07:39:02.805530Z"
    },
    "papermill": {
     "duration": 0.035961,
     "end_time": "2022-03-03T07:40:35.297083",
     "exception": false,
     "start_time": "2022-03-03T07:40:35.261122",
     "status": "completed"
    },
    "tags": []
   },
   "outputs": [
    {
     "name": "stdout",
     "output_type": "stream",
     "text": [
      "/kaggle/input/house-prices-advanced-regression-techniques/sample_submission.csv\n",
      "/kaggle/input/house-prices-advanced-regression-techniques/data_description.txt\n",
      "/kaggle/input/house-prices-advanced-regression-techniques/train.csv\n",
      "/kaggle/input/house-prices-advanced-regression-techniques/test.csv\n"
     ]
    }
   ],
   "source": [
    "# This Python 3 environment comes with many helpful analytics libraries installed\n",
    "# It is defined by the kaggle/python Docker image: https://github.com/kaggle/docker-python\n",
    "# For example, here's several helpful packages to load\n",
    "\n",
    "import numpy as np # linear algebra\n",
    "import pandas as pd # data processing, CSV file I/O (e.g. pd.read_csv)\n",
    "\n",
    "# Input data files are available in the read-only \"../input/\" directory\n",
    "# For example, running this (by clicking run or pressing Shift+Enter) will list all files under the input directory\n",
    "\n",
    "import os\n",
    "for dirname, _, filenames in os.walk('/kaggle/input'):\n",
    "    for filename in filenames:\n",
    "        print(os.path.join(dirname, filename))\n",
    "\n",
    "# You can write up to 20GB to the current directory (/kaggle/working/) that gets preserved as output when you create a version using \"Save & Run All\" \n",
    "# You can also write temporary files to /kaggle/temp/, but they won't be saved outside of the current session"
   ]
  },
  {
   "cell_type": "markdown",
   "id": "98f3a495",
   "metadata": {
    "papermill": {
     "duration": 0.020206,
     "end_time": "2022-03-03T07:40:35.338549",
     "exception": false,
     "start_time": "2022-03-03T07:40:35.318343",
     "status": "completed"
    },
    "tags": []
   },
   "source": [
    "## Experiment 5 DS lab\n",
    "\n",
    "Name: Chirag Rana \\\n",
    "UID: 2018130043\\\n",
    "BE COMPS "
   ]
  },
  {
   "cell_type": "markdown",
   "id": "b08f4f6f",
   "metadata": {
    "papermill": {
     "duration": 0.019988,
     "end_time": "2022-03-03T07:40:35.378969",
     "exception": false,
     "start_time": "2022-03-03T07:40:35.358981",
     "status": "completed"
    },
    "tags": []
   },
   "source": [
    "Objective \n",
    "* build a regression model\n",
    "* performance of the model in terms of accuracy, recall, sensitivity, specificity, ROC curves, precision recall curves and loss function for regression.\n",
    "* submit in ipynb , pdf , py\n",
    "\n",
    "Tasks\n",
    "* Base model Logistic -> 0.8 time the data \n",
    "* Error Rate along with AUC score."
   ]
  },
  {
   "cell_type": "code",
   "execution_count": 2,
   "id": "f8631743",
   "metadata": {
    "execution": {
     "iopub.execute_input": "2022-03-03T07:40:35.424595Z",
     "iopub.status.busy": "2022-03-03T07:40:35.424003Z",
     "iopub.status.idle": "2022-03-03T07:40:35.426794Z",
     "shell.execute_reply": "2022-03-03T07:40:35.426280Z",
     "shell.execute_reply.started": "2022-03-03T07:39:02.824016Z"
    },
    "papermill": {
     "duration": 0.027172,
     "end_time": "2022-03-03T07:40:35.426924",
     "exception": false,
     "start_time": "2022-03-03T07:40:35.399752",
     "status": "completed"
    },
    "tags": []
   },
   "outputs": [],
   "source": [
    "import pandas as pd \n",
    "import numpy as np \n",
    "import matplotlib.pyplot as plt "
   ]
  },
  {
   "cell_type": "code",
   "execution_count": 3,
   "id": "35df75a8",
   "metadata": {
    "execution": {
     "iopub.execute_input": "2022-03-03T07:40:35.470999Z",
     "iopub.status.busy": "2022-03-03T07:40:35.470398Z",
     "iopub.status.idle": "2022-03-03T07:40:35.527236Z",
     "shell.execute_reply": "2022-03-03T07:40:35.527684Z",
     "shell.execute_reply.started": "2022-03-03T07:39:02.848223Z"
    },
    "papermill": {
     "duration": 0.080107,
     "end_time": "2022-03-03T07:40:35.527864",
     "exception": false,
     "start_time": "2022-03-03T07:40:35.447757",
     "status": "completed"
    },
    "tags": []
   },
   "outputs": [],
   "source": [
    "df = pd.read_csv(\"/kaggle/input/house-prices-advanced-regression-techniques/train.csv\")\n",
    "test = pd.read_csv('/kaggle/input/house-prices-advanced-regression-techniques/test.csv')"
   ]
  },
  {
   "cell_type": "code",
   "execution_count": 4,
   "id": "5de448d4",
   "metadata": {
    "execution": {
     "iopub.execute_input": "2022-03-03T07:40:35.574417Z",
     "iopub.status.busy": "2022-03-03T07:40:35.573516Z",
     "iopub.status.idle": "2022-03-03T07:40:35.610200Z",
     "shell.execute_reply": "2022-03-03T07:40:35.612582Z",
     "shell.execute_reply.started": "2022-03-03T07:39:02.942380Z"
    },
    "papermill": {
     "duration": 0.064611,
     "end_time": "2022-03-03T07:40:35.612772",
     "exception": false,
     "start_time": "2022-03-03T07:40:35.548161",
     "status": "completed"
    },
    "tags": []
   },
   "outputs": [
    {
     "data": {
      "text/html": [
       "<div>\n",
       "<style scoped>\n",
       "    .dataframe tbody tr th:only-of-type {\n",
       "        vertical-align: middle;\n",
       "    }\n",
       "\n",
       "    .dataframe tbody tr th {\n",
       "        vertical-align: top;\n",
       "    }\n",
       "\n",
       "    .dataframe thead th {\n",
       "        text-align: right;\n",
       "    }\n",
       "</style>\n",
       "<table border=\"1\" class=\"dataframe\">\n",
       "  <thead>\n",
       "    <tr style=\"text-align: right;\">\n",
       "      <th></th>\n",
       "      <th>Id</th>\n",
       "      <th>MSSubClass</th>\n",
       "      <th>MSZoning</th>\n",
       "      <th>LotFrontage</th>\n",
       "      <th>LotArea</th>\n",
       "      <th>Street</th>\n",
       "      <th>Alley</th>\n",
       "      <th>LotShape</th>\n",
       "      <th>LandContour</th>\n",
       "      <th>Utilities</th>\n",
       "      <th>...</th>\n",
       "      <th>PoolArea</th>\n",
       "      <th>PoolQC</th>\n",
       "      <th>Fence</th>\n",
       "      <th>MiscFeature</th>\n",
       "      <th>MiscVal</th>\n",
       "      <th>MoSold</th>\n",
       "      <th>YrSold</th>\n",
       "      <th>SaleType</th>\n",
       "      <th>SaleCondition</th>\n",
       "      <th>SalePrice</th>\n",
       "    </tr>\n",
       "  </thead>\n",
       "  <tbody>\n",
       "    <tr>\n",
       "      <th>0</th>\n",
       "      <td>1</td>\n",
       "      <td>60</td>\n",
       "      <td>RL</td>\n",
       "      <td>65.0</td>\n",
       "      <td>8450</td>\n",
       "      <td>Pave</td>\n",
       "      <td>NaN</td>\n",
       "      <td>Reg</td>\n",
       "      <td>Lvl</td>\n",
       "      <td>AllPub</td>\n",
       "      <td>...</td>\n",
       "      <td>0</td>\n",
       "      <td>NaN</td>\n",
       "      <td>NaN</td>\n",
       "      <td>NaN</td>\n",
       "      <td>0</td>\n",
       "      <td>2</td>\n",
       "      <td>2008</td>\n",
       "      <td>WD</td>\n",
       "      <td>Normal</td>\n",
       "      <td>208500</td>\n",
       "    </tr>\n",
       "    <tr>\n",
       "      <th>1</th>\n",
       "      <td>2</td>\n",
       "      <td>20</td>\n",
       "      <td>RL</td>\n",
       "      <td>80.0</td>\n",
       "      <td>9600</td>\n",
       "      <td>Pave</td>\n",
       "      <td>NaN</td>\n",
       "      <td>Reg</td>\n",
       "      <td>Lvl</td>\n",
       "      <td>AllPub</td>\n",
       "      <td>...</td>\n",
       "      <td>0</td>\n",
       "      <td>NaN</td>\n",
       "      <td>NaN</td>\n",
       "      <td>NaN</td>\n",
       "      <td>0</td>\n",
       "      <td>5</td>\n",
       "      <td>2007</td>\n",
       "      <td>WD</td>\n",
       "      <td>Normal</td>\n",
       "      <td>181500</td>\n",
       "    </tr>\n",
       "    <tr>\n",
       "      <th>2</th>\n",
       "      <td>3</td>\n",
       "      <td>60</td>\n",
       "      <td>RL</td>\n",
       "      <td>68.0</td>\n",
       "      <td>11250</td>\n",
       "      <td>Pave</td>\n",
       "      <td>NaN</td>\n",
       "      <td>IR1</td>\n",
       "      <td>Lvl</td>\n",
       "      <td>AllPub</td>\n",
       "      <td>...</td>\n",
       "      <td>0</td>\n",
       "      <td>NaN</td>\n",
       "      <td>NaN</td>\n",
       "      <td>NaN</td>\n",
       "      <td>0</td>\n",
       "      <td>9</td>\n",
       "      <td>2008</td>\n",
       "      <td>WD</td>\n",
       "      <td>Normal</td>\n",
       "      <td>223500</td>\n",
       "    </tr>\n",
       "    <tr>\n",
       "      <th>3</th>\n",
       "      <td>4</td>\n",
       "      <td>70</td>\n",
       "      <td>RL</td>\n",
       "      <td>60.0</td>\n",
       "      <td>9550</td>\n",
       "      <td>Pave</td>\n",
       "      <td>NaN</td>\n",
       "      <td>IR1</td>\n",
       "      <td>Lvl</td>\n",
       "      <td>AllPub</td>\n",
       "      <td>...</td>\n",
       "      <td>0</td>\n",
       "      <td>NaN</td>\n",
       "      <td>NaN</td>\n",
       "      <td>NaN</td>\n",
       "      <td>0</td>\n",
       "      <td>2</td>\n",
       "      <td>2006</td>\n",
       "      <td>WD</td>\n",
       "      <td>Abnorml</td>\n",
       "      <td>140000</td>\n",
       "    </tr>\n",
       "    <tr>\n",
       "      <th>4</th>\n",
       "      <td>5</td>\n",
       "      <td>60</td>\n",
       "      <td>RL</td>\n",
       "      <td>84.0</td>\n",
       "      <td>14260</td>\n",
       "      <td>Pave</td>\n",
       "      <td>NaN</td>\n",
       "      <td>IR1</td>\n",
       "      <td>Lvl</td>\n",
       "      <td>AllPub</td>\n",
       "      <td>...</td>\n",
       "      <td>0</td>\n",
       "      <td>NaN</td>\n",
       "      <td>NaN</td>\n",
       "      <td>NaN</td>\n",
       "      <td>0</td>\n",
       "      <td>12</td>\n",
       "      <td>2008</td>\n",
       "      <td>WD</td>\n",
       "      <td>Normal</td>\n",
       "      <td>250000</td>\n",
       "    </tr>\n",
       "  </tbody>\n",
       "</table>\n",
       "<p>5 rows × 81 columns</p>\n",
       "</div>"
      ],
      "text/plain": [
       "   Id  MSSubClass MSZoning  LotFrontage  LotArea Street Alley LotShape  \\\n",
       "0   1          60       RL         65.0     8450   Pave   NaN      Reg   \n",
       "1   2          20       RL         80.0     9600   Pave   NaN      Reg   \n",
       "2   3          60       RL         68.0    11250   Pave   NaN      IR1   \n",
       "3   4          70       RL         60.0     9550   Pave   NaN      IR1   \n",
       "4   5          60       RL         84.0    14260   Pave   NaN      IR1   \n",
       "\n",
       "  LandContour Utilities  ... PoolArea PoolQC Fence MiscFeature MiscVal MoSold  \\\n",
       "0         Lvl    AllPub  ...        0    NaN   NaN         NaN       0      2   \n",
       "1         Lvl    AllPub  ...        0    NaN   NaN         NaN       0      5   \n",
       "2         Lvl    AllPub  ...        0    NaN   NaN         NaN       0      9   \n",
       "3         Lvl    AllPub  ...        0    NaN   NaN         NaN       0      2   \n",
       "4         Lvl    AllPub  ...        0    NaN   NaN         NaN       0     12   \n",
       "\n",
       "  YrSold  SaleType  SaleCondition  SalePrice  \n",
       "0   2008        WD         Normal     208500  \n",
       "1   2007        WD         Normal     181500  \n",
       "2   2008        WD         Normal     223500  \n",
       "3   2006        WD        Abnorml     140000  \n",
       "4   2008        WD         Normal     250000  \n",
       "\n",
       "[5 rows x 81 columns]"
      ]
     },
     "execution_count": 4,
     "metadata": {},
     "output_type": "execute_result"
    }
   ],
   "source": [
    "df.head()"
   ]
  },
  {
   "cell_type": "code",
   "execution_count": 5,
   "id": "7d141edc",
   "metadata": {
    "execution": {
     "iopub.execute_input": "2022-03-03T07:40:35.658442Z",
     "iopub.status.busy": "2022-03-03T07:40:35.657894Z",
     "iopub.status.idle": "2022-03-03T07:40:35.761273Z",
     "shell.execute_reply": "2022-03-03T07:40:35.761829Z",
     "shell.execute_reply.started": "2022-03-03T07:39:02.978982Z"
    },
    "papermill": {
     "duration": 0.127641,
     "end_time": "2022-03-03T07:40:35.761990",
     "exception": false,
     "start_time": "2022-03-03T07:40:35.634349",
     "status": "completed"
    },
    "tags": []
   },
   "outputs": [
    {
     "data": {
      "text/html": [
       "<div>\n",
       "<style scoped>\n",
       "    .dataframe tbody tr th:only-of-type {\n",
       "        vertical-align: middle;\n",
       "    }\n",
       "\n",
       "    .dataframe tbody tr th {\n",
       "        vertical-align: top;\n",
       "    }\n",
       "\n",
       "    .dataframe thead th {\n",
       "        text-align: right;\n",
       "    }\n",
       "</style>\n",
       "<table border=\"1\" class=\"dataframe\">\n",
       "  <thead>\n",
       "    <tr style=\"text-align: right;\">\n",
       "      <th></th>\n",
       "      <th>Id</th>\n",
       "      <th>MSSubClass</th>\n",
       "      <th>LotFrontage</th>\n",
       "      <th>LotArea</th>\n",
       "      <th>OverallQual</th>\n",
       "      <th>OverallCond</th>\n",
       "      <th>YearBuilt</th>\n",
       "      <th>YearRemodAdd</th>\n",
       "      <th>MasVnrArea</th>\n",
       "      <th>BsmtFinSF1</th>\n",
       "      <th>...</th>\n",
       "      <th>WoodDeckSF</th>\n",
       "      <th>OpenPorchSF</th>\n",
       "      <th>EnclosedPorch</th>\n",
       "      <th>3SsnPorch</th>\n",
       "      <th>ScreenPorch</th>\n",
       "      <th>PoolArea</th>\n",
       "      <th>MiscVal</th>\n",
       "      <th>MoSold</th>\n",
       "      <th>YrSold</th>\n",
       "      <th>SalePrice</th>\n",
       "    </tr>\n",
       "  </thead>\n",
       "  <tbody>\n",
       "    <tr>\n",
       "      <th>count</th>\n",
       "      <td>1460.000000</td>\n",
       "      <td>1460.000000</td>\n",
       "      <td>1201.000000</td>\n",
       "      <td>1460.000000</td>\n",
       "      <td>1460.000000</td>\n",
       "      <td>1460.000000</td>\n",
       "      <td>1460.000000</td>\n",
       "      <td>1460.000000</td>\n",
       "      <td>1452.000000</td>\n",
       "      <td>1460.000000</td>\n",
       "      <td>...</td>\n",
       "      <td>1460.000000</td>\n",
       "      <td>1460.000000</td>\n",
       "      <td>1460.000000</td>\n",
       "      <td>1460.000000</td>\n",
       "      <td>1460.000000</td>\n",
       "      <td>1460.000000</td>\n",
       "      <td>1460.000000</td>\n",
       "      <td>1460.000000</td>\n",
       "      <td>1460.000000</td>\n",
       "      <td>1460.000000</td>\n",
       "    </tr>\n",
       "    <tr>\n",
       "      <th>mean</th>\n",
       "      <td>730.500000</td>\n",
       "      <td>56.897260</td>\n",
       "      <td>70.049958</td>\n",
       "      <td>10516.828082</td>\n",
       "      <td>6.099315</td>\n",
       "      <td>5.575342</td>\n",
       "      <td>1971.267808</td>\n",
       "      <td>1984.865753</td>\n",
       "      <td>103.685262</td>\n",
       "      <td>443.639726</td>\n",
       "      <td>...</td>\n",
       "      <td>94.244521</td>\n",
       "      <td>46.660274</td>\n",
       "      <td>21.954110</td>\n",
       "      <td>3.409589</td>\n",
       "      <td>15.060959</td>\n",
       "      <td>2.758904</td>\n",
       "      <td>43.489041</td>\n",
       "      <td>6.321918</td>\n",
       "      <td>2007.815753</td>\n",
       "      <td>180921.195890</td>\n",
       "    </tr>\n",
       "    <tr>\n",
       "      <th>std</th>\n",
       "      <td>421.610009</td>\n",
       "      <td>42.300571</td>\n",
       "      <td>24.284752</td>\n",
       "      <td>9981.264932</td>\n",
       "      <td>1.382997</td>\n",
       "      <td>1.112799</td>\n",
       "      <td>30.202904</td>\n",
       "      <td>20.645407</td>\n",
       "      <td>181.066207</td>\n",
       "      <td>456.098091</td>\n",
       "      <td>...</td>\n",
       "      <td>125.338794</td>\n",
       "      <td>66.256028</td>\n",
       "      <td>61.119149</td>\n",
       "      <td>29.317331</td>\n",
       "      <td>55.757415</td>\n",
       "      <td>40.177307</td>\n",
       "      <td>496.123024</td>\n",
       "      <td>2.703626</td>\n",
       "      <td>1.328095</td>\n",
       "      <td>79442.502883</td>\n",
       "    </tr>\n",
       "    <tr>\n",
       "      <th>min</th>\n",
       "      <td>1.000000</td>\n",
       "      <td>20.000000</td>\n",
       "      <td>21.000000</td>\n",
       "      <td>1300.000000</td>\n",
       "      <td>1.000000</td>\n",
       "      <td>1.000000</td>\n",
       "      <td>1872.000000</td>\n",
       "      <td>1950.000000</td>\n",
       "      <td>0.000000</td>\n",
       "      <td>0.000000</td>\n",
       "      <td>...</td>\n",
       "      <td>0.000000</td>\n",
       "      <td>0.000000</td>\n",
       "      <td>0.000000</td>\n",
       "      <td>0.000000</td>\n",
       "      <td>0.000000</td>\n",
       "      <td>0.000000</td>\n",
       "      <td>0.000000</td>\n",
       "      <td>1.000000</td>\n",
       "      <td>2006.000000</td>\n",
       "      <td>34900.000000</td>\n",
       "    </tr>\n",
       "    <tr>\n",
       "      <th>25%</th>\n",
       "      <td>365.750000</td>\n",
       "      <td>20.000000</td>\n",
       "      <td>59.000000</td>\n",
       "      <td>7553.500000</td>\n",
       "      <td>5.000000</td>\n",
       "      <td>5.000000</td>\n",
       "      <td>1954.000000</td>\n",
       "      <td>1967.000000</td>\n",
       "      <td>0.000000</td>\n",
       "      <td>0.000000</td>\n",
       "      <td>...</td>\n",
       "      <td>0.000000</td>\n",
       "      <td>0.000000</td>\n",
       "      <td>0.000000</td>\n",
       "      <td>0.000000</td>\n",
       "      <td>0.000000</td>\n",
       "      <td>0.000000</td>\n",
       "      <td>0.000000</td>\n",
       "      <td>5.000000</td>\n",
       "      <td>2007.000000</td>\n",
       "      <td>129975.000000</td>\n",
       "    </tr>\n",
       "    <tr>\n",
       "      <th>50%</th>\n",
       "      <td>730.500000</td>\n",
       "      <td>50.000000</td>\n",
       "      <td>69.000000</td>\n",
       "      <td>9478.500000</td>\n",
       "      <td>6.000000</td>\n",
       "      <td>5.000000</td>\n",
       "      <td>1973.000000</td>\n",
       "      <td>1994.000000</td>\n",
       "      <td>0.000000</td>\n",
       "      <td>383.500000</td>\n",
       "      <td>...</td>\n",
       "      <td>0.000000</td>\n",
       "      <td>25.000000</td>\n",
       "      <td>0.000000</td>\n",
       "      <td>0.000000</td>\n",
       "      <td>0.000000</td>\n",
       "      <td>0.000000</td>\n",
       "      <td>0.000000</td>\n",
       "      <td>6.000000</td>\n",
       "      <td>2008.000000</td>\n",
       "      <td>163000.000000</td>\n",
       "    </tr>\n",
       "    <tr>\n",
       "      <th>75%</th>\n",
       "      <td>1095.250000</td>\n",
       "      <td>70.000000</td>\n",
       "      <td>80.000000</td>\n",
       "      <td>11601.500000</td>\n",
       "      <td>7.000000</td>\n",
       "      <td>6.000000</td>\n",
       "      <td>2000.000000</td>\n",
       "      <td>2004.000000</td>\n",
       "      <td>166.000000</td>\n",
       "      <td>712.250000</td>\n",
       "      <td>...</td>\n",
       "      <td>168.000000</td>\n",
       "      <td>68.000000</td>\n",
       "      <td>0.000000</td>\n",
       "      <td>0.000000</td>\n",
       "      <td>0.000000</td>\n",
       "      <td>0.000000</td>\n",
       "      <td>0.000000</td>\n",
       "      <td>8.000000</td>\n",
       "      <td>2009.000000</td>\n",
       "      <td>214000.000000</td>\n",
       "    </tr>\n",
       "    <tr>\n",
       "      <th>max</th>\n",
       "      <td>1460.000000</td>\n",
       "      <td>190.000000</td>\n",
       "      <td>313.000000</td>\n",
       "      <td>215245.000000</td>\n",
       "      <td>10.000000</td>\n",
       "      <td>9.000000</td>\n",
       "      <td>2010.000000</td>\n",
       "      <td>2010.000000</td>\n",
       "      <td>1600.000000</td>\n",
       "      <td>5644.000000</td>\n",
       "      <td>...</td>\n",
       "      <td>857.000000</td>\n",
       "      <td>547.000000</td>\n",
       "      <td>552.000000</td>\n",
       "      <td>508.000000</td>\n",
       "      <td>480.000000</td>\n",
       "      <td>738.000000</td>\n",
       "      <td>15500.000000</td>\n",
       "      <td>12.000000</td>\n",
       "      <td>2010.000000</td>\n",
       "      <td>755000.000000</td>\n",
       "    </tr>\n",
       "  </tbody>\n",
       "</table>\n",
       "<p>8 rows × 38 columns</p>\n",
       "</div>"
      ],
      "text/plain": [
       "                Id   MSSubClass  LotFrontage        LotArea  OverallQual  \\\n",
       "count  1460.000000  1460.000000  1201.000000    1460.000000  1460.000000   \n",
       "mean    730.500000    56.897260    70.049958   10516.828082     6.099315   \n",
       "std     421.610009    42.300571    24.284752    9981.264932     1.382997   \n",
       "min       1.000000    20.000000    21.000000    1300.000000     1.000000   \n",
       "25%     365.750000    20.000000    59.000000    7553.500000     5.000000   \n",
       "50%     730.500000    50.000000    69.000000    9478.500000     6.000000   \n",
       "75%    1095.250000    70.000000    80.000000   11601.500000     7.000000   \n",
       "max    1460.000000   190.000000   313.000000  215245.000000    10.000000   \n",
       "\n",
       "       OverallCond    YearBuilt  YearRemodAdd   MasVnrArea   BsmtFinSF1  ...  \\\n",
       "count  1460.000000  1460.000000   1460.000000  1452.000000  1460.000000  ...   \n",
       "mean      5.575342  1971.267808   1984.865753   103.685262   443.639726  ...   \n",
       "std       1.112799    30.202904     20.645407   181.066207   456.098091  ...   \n",
       "min       1.000000  1872.000000   1950.000000     0.000000     0.000000  ...   \n",
       "25%       5.000000  1954.000000   1967.000000     0.000000     0.000000  ...   \n",
       "50%       5.000000  1973.000000   1994.000000     0.000000   383.500000  ...   \n",
       "75%       6.000000  2000.000000   2004.000000   166.000000   712.250000  ...   \n",
       "max       9.000000  2010.000000   2010.000000  1600.000000  5644.000000  ...   \n",
       "\n",
       "        WoodDeckSF  OpenPorchSF  EnclosedPorch    3SsnPorch  ScreenPorch  \\\n",
       "count  1460.000000  1460.000000    1460.000000  1460.000000  1460.000000   \n",
       "mean     94.244521    46.660274      21.954110     3.409589    15.060959   \n",
       "std     125.338794    66.256028      61.119149    29.317331    55.757415   \n",
       "min       0.000000     0.000000       0.000000     0.000000     0.000000   \n",
       "25%       0.000000     0.000000       0.000000     0.000000     0.000000   \n",
       "50%       0.000000    25.000000       0.000000     0.000000     0.000000   \n",
       "75%     168.000000    68.000000       0.000000     0.000000     0.000000   \n",
       "max     857.000000   547.000000     552.000000   508.000000   480.000000   \n",
       "\n",
       "          PoolArea       MiscVal       MoSold       YrSold      SalePrice  \n",
       "count  1460.000000   1460.000000  1460.000000  1460.000000    1460.000000  \n",
       "mean      2.758904     43.489041     6.321918  2007.815753  180921.195890  \n",
       "std      40.177307    496.123024     2.703626     1.328095   79442.502883  \n",
       "min       0.000000      0.000000     1.000000  2006.000000   34900.000000  \n",
       "25%       0.000000      0.000000     5.000000  2007.000000  129975.000000  \n",
       "50%       0.000000      0.000000     6.000000  2008.000000  163000.000000  \n",
       "75%       0.000000      0.000000     8.000000  2009.000000  214000.000000  \n",
       "max     738.000000  15500.000000    12.000000  2010.000000  755000.000000  \n",
       "\n",
       "[8 rows x 38 columns]"
      ]
     },
     "execution_count": 5,
     "metadata": {},
     "output_type": "execute_result"
    }
   ],
   "source": [
    "df.describe()"
   ]
  },
  {
   "cell_type": "code",
   "execution_count": 6,
   "id": "062895b7",
   "metadata": {
    "execution": {
     "iopub.execute_input": "2022-03-03T07:40:35.821974Z",
     "iopub.status.busy": "2022-03-03T07:40:35.815182Z",
     "iopub.status.idle": "2022-03-03T07:40:35.833240Z",
     "shell.execute_reply": "2022-03-03T07:40:35.833916Z",
     "shell.execute_reply.started": "2022-03-03T07:39:03.087559Z"
    },
    "papermill": {
     "duration": 0.050434,
     "end_time": "2022-03-03T07:40:35.834132",
     "exception": false,
     "start_time": "2022-03-03T07:40:35.783698",
     "status": "completed"
    },
    "tags": []
   },
   "outputs": [
    {
     "name": "stdout",
     "output_type": "stream",
     "text": [
      "<class 'pandas.core.frame.DataFrame'>\n",
      "RangeIndex: 1460 entries, 0 to 1459\n",
      "Data columns (total 81 columns):\n",
      " #   Column         Non-Null Count  Dtype  \n",
      "---  ------         --------------  -----  \n",
      " 0   Id             1460 non-null   int64  \n",
      " 1   MSSubClass     1460 non-null   int64  \n",
      " 2   MSZoning       1460 non-null   object \n",
      " 3   LotFrontage    1201 non-null   float64\n",
      " 4   LotArea        1460 non-null   int64  \n",
      " 5   Street         1460 non-null   object \n",
      " 6   Alley          91 non-null     object \n",
      " 7   LotShape       1460 non-null   object \n",
      " 8   LandContour    1460 non-null   object \n",
      " 9   Utilities      1460 non-null   object \n",
      " 10  LotConfig      1460 non-null   object \n",
      " 11  LandSlope      1460 non-null   object \n",
      " 12  Neighborhood   1460 non-null   object \n",
      " 13  Condition1     1460 non-null   object \n",
      " 14  Condition2     1460 non-null   object \n",
      " 15  BldgType       1460 non-null   object \n",
      " 16  HouseStyle     1460 non-null   object \n",
      " 17  OverallQual    1460 non-null   int64  \n",
      " 18  OverallCond    1460 non-null   int64  \n",
      " 19  YearBuilt      1460 non-null   int64  \n",
      " 20  YearRemodAdd   1460 non-null   int64  \n",
      " 21  RoofStyle      1460 non-null   object \n",
      " 22  RoofMatl       1460 non-null   object \n",
      " 23  Exterior1st    1460 non-null   object \n",
      " 24  Exterior2nd    1460 non-null   object \n",
      " 25  MasVnrType     1452 non-null   object \n",
      " 26  MasVnrArea     1452 non-null   float64\n",
      " 27  ExterQual      1460 non-null   object \n",
      " 28  ExterCond      1460 non-null   object \n",
      " 29  Foundation     1460 non-null   object \n",
      " 30  BsmtQual       1423 non-null   object \n",
      " 31  BsmtCond       1423 non-null   object \n",
      " 32  BsmtExposure   1422 non-null   object \n",
      " 33  BsmtFinType1   1423 non-null   object \n",
      " 34  BsmtFinSF1     1460 non-null   int64  \n",
      " 35  BsmtFinType2   1422 non-null   object \n",
      " 36  BsmtFinSF2     1460 non-null   int64  \n",
      " 37  BsmtUnfSF      1460 non-null   int64  \n",
      " 38  TotalBsmtSF    1460 non-null   int64  \n",
      " 39  Heating        1460 non-null   object \n",
      " 40  HeatingQC      1460 non-null   object \n",
      " 41  CentralAir     1460 non-null   object \n",
      " 42  Electrical     1459 non-null   object \n",
      " 43  1stFlrSF       1460 non-null   int64  \n",
      " 44  2ndFlrSF       1460 non-null   int64  \n",
      " 45  LowQualFinSF   1460 non-null   int64  \n",
      " 46  GrLivArea      1460 non-null   int64  \n",
      " 47  BsmtFullBath   1460 non-null   int64  \n",
      " 48  BsmtHalfBath   1460 non-null   int64  \n",
      " 49  FullBath       1460 non-null   int64  \n",
      " 50  HalfBath       1460 non-null   int64  \n",
      " 51  BedroomAbvGr   1460 non-null   int64  \n",
      " 52  KitchenAbvGr   1460 non-null   int64  \n",
      " 53  KitchenQual    1460 non-null   object \n",
      " 54  TotRmsAbvGrd   1460 non-null   int64  \n",
      " 55  Functional     1460 non-null   object \n",
      " 56  Fireplaces     1460 non-null   int64  \n",
      " 57  FireplaceQu    770 non-null    object \n",
      " 58  GarageType     1379 non-null   object \n",
      " 59  GarageYrBlt    1379 non-null   float64\n",
      " 60  GarageFinish   1379 non-null   object \n",
      " 61  GarageCars     1460 non-null   int64  \n",
      " 62  GarageArea     1460 non-null   int64  \n",
      " 63  GarageQual     1379 non-null   object \n",
      " 64  GarageCond     1379 non-null   object \n",
      " 65  PavedDrive     1460 non-null   object \n",
      " 66  WoodDeckSF     1460 non-null   int64  \n",
      " 67  OpenPorchSF    1460 non-null   int64  \n",
      " 68  EnclosedPorch  1460 non-null   int64  \n",
      " 69  3SsnPorch      1460 non-null   int64  \n",
      " 70  ScreenPorch    1460 non-null   int64  \n",
      " 71  PoolArea       1460 non-null   int64  \n",
      " 72  PoolQC         7 non-null      object \n",
      " 73  Fence          281 non-null    object \n",
      " 74  MiscFeature    54 non-null     object \n",
      " 75  MiscVal        1460 non-null   int64  \n",
      " 76  MoSold         1460 non-null   int64  \n",
      " 77  YrSold         1460 non-null   int64  \n",
      " 78  SaleType       1460 non-null   object \n",
      " 79  SaleCondition  1460 non-null   object \n",
      " 80  SalePrice      1460 non-null   int64  \n",
      "dtypes: float64(3), int64(35), object(43)\n",
      "memory usage: 924.0+ KB\n"
     ]
    }
   ],
   "source": [
    "df.info()"
   ]
  },
  {
   "cell_type": "code",
   "execution_count": 7,
   "id": "41bf0e92",
   "metadata": {
    "execution": {
     "iopub.execute_input": "2022-03-03T07:40:35.882211Z",
     "iopub.status.busy": "2022-03-03T07:40:35.881598Z",
     "iopub.status.idle": "2022-03-03T07:40:35.889210Z",
     "shell.execute_reply": "2022-03-03T07:40:35.889786Z",
     "shell.execute_reply.started": "2022-03-03T07:39:03.120746Z"
    },
    "papermill": {
     "duration": 0.032793,
     "end_time": "2022-03-03T07:40:35.889952",
     "exception": false,
     "start_time": "2022-03-03T07:40:35.857159",
     "status": "completed"
    },
    "tags": []
   },
   "outputs": [
    {
     "data": {
      "text/plain": [
       "Index(['MSZoning', 'Street', 'Alley', 'LotShape', 'LandContour', 'Utilities',\n",
       "       'LotConfig', 'LandSlope', 'Neighborhood', 'Condition1', 'Condition2',\n",
       "       'BldgType', 'HouseStyle', 'RoofStyle', 'RoofMatl', 'Exterior1st',\n",
       "       'Exterior2nd', 'MasVnrType', 'ExterQual', 'ExterCond', 'Foundation',\n",
       "       'BsmtQual', 'BsmtCond', 'BsmtExposure', 'BsmtFinType1', 'BsmtFinType2',\n",
       "       'Heating', 'HeatingQC', 'CentralAir', 'Electrical', 'KitchenQual',\n",
       "       'Functional', 'FireplaceQu', 'GarageType', 'GarageFinish', 'GarageQual',\n",
       "       'GarageCond', 'PavedDrive', 'PoolQC', 'Fence', 'MiscFeature',\n",
       "       'SaleType', 'SaleCondition'],\n",
       "      dtype='object')"
      ]
     },
     "execution_count": 7,
     "metadata": {},
     "output_type": "execute_result"
    }
   ],
   "source": [
    "cat_values = df.select_dtypes(include=['object']).columns\n",
    "cat_values"
   ]
  },
  {
   "cell_type": "code",
   "execution_count": 8,
   "id": "164d5fb2",
   "metadata": {
    "execution": {
     "iopub.execute_input": "2022-03-03T07:40:35.937582Z",
     "iopub.status.busy": "2022-03-03T07:40:35.937024Z",
     "iopub.status.idle": "2022-03-03T07:40:36.018951Z",
     "shell.execute_reply": "2022-03-03T07:40:36.019439Z",
     "shell.execute_reply.started": "2022-03-03T07:39:03.137736Z"
    },
    "papermill": {
     "duration": 0.107282,
     "end_time": "2022-03-03T07:40:36.019622",
     "exception": false,
     "start_time": "2022-03-03T07:40:35.912340",
     "status": "completed"
    },
    "tags": []
   },
   "outputs": [],
   "source": [
    "dummies = pd.get_dummies(df[cat_values], drop_first=True)\n",
    "df = pd.concat([df.drop(cat_values,axis=1), dummies],axis=1)\n",
    "dummies_test = pd.get_dummies(test[cat_values], drop_first=True)\n",
    "test = pd.concat([test.drop(cat_values,axis=1), dummies_test],axis=1)"
   ]
  },
  {
   "cell_type": "code",
   "execution_count": 9,
   "id": "2aad1680",
   "metadata": {
    "execution": {
     "iopub.execute_input": "2022-03-03T07:40:36.067678Z",
     "iopub.status.busy": "2022-03-03T07:40:36.067097Z",
     "iopub.status.idle": "2022-03-03T07:40:36.073099Z",
     "shell.execute_reply": "2022-03-03T07:40:36.073778Z",
     "shell.execute_reply.started": "2022-03-03T07:39:03.237570Z"
    },
    "papermill": {
     "duration": 0.031807,
     "end_time": "2022-03-03T07:40:36.073992",
     "exception": false,
     "start_time": "2022-03-03T07:40:36.042185",
     "status": "completed"
    },
    "tags": []
   },
   "outputs": [
    {
     "name": "stdout",
     "output_type": "stream",
     "text": [
      "Index(['Id', 'MSSubClass', 'LotFrontage', 'LotArea', 'OverallQual',\n",
      "       'OverallCond', 'YearBuilt', 'YearRemodAdd', 'MasVnrArea', 'BsmtFinSF1',\n",
      "       ...\n",
      "       'SaleType_ConLI', 'SaleType_ConLw', 'SaleType_New', 'SaleType_Oth',\n",
      "       'SaleType_WD', 'SaleCondition_AdjLand', 'SaleCondition_Alloca',\n",
      "       'SaleCondition_Family', 'SaleCondition_Normal',\n",
      "       'SaleCondition_Partial'],\n",
      "      dtype='object', length=247)\n",
      "247\n",
      "Index(['Id', 'MSSubClass', 'LotFrontage', 'LotArea', 'OverallQual',\n",
      "       'OverallCond', 'YearBuilt', 'YearRemodAdd', 'MasVnrArea', 'BsmtFinSF1',\n",
      "       ...\n",
      "       'SaleType_ConLI', 'SaleType_ConLw', 'SaleType_New', 'SaleType_Oth',\n",
      "       'SaleType_WD', 'SaleCondition_AdjLand', 'SaleCondition_Alloca',\n",
      "       'SaleCondition_Family', 'SaleCondition_Normal',\n",
      "       'SaleCondition_Partial'],\n",
      "      dtype='object', length=228)\n",
      "228\n"
     ]
    }
   ],
   "source": [
    "print(df.columns)\n",
    "print(len(df.columns))\n",
    "print(test.columns)\n",
    "print(len(test.columns))"
   ]
  },
  {
   "cell_type": "code",
   "execution_count": 10,
   "id": "5588c207",
   "metadata": {
    "execution": {
     "iopub.execute_input": "2022-03-03T07:40:36.131415Z",
     "iopub.status.busy": "2022-03-03T07:40:36.130856Z",
     "iopub.status.idle": "2022-03-03T07:40:36.322713Z",
     "shell.execute_reply": "2022-03-03T07:40:36.323140Z",
     "shell.execute_reply.started": "2022-03-03T07:39:03.250222Z"
    },
    "papermill": {
     "duration": 0.221323,
     "end_time": "2022-03-03T07:40:36.323309",
     "exception": false,
     "start_time": "2022-03-03T07:40:36.101986",
     "status": "completed"
    },
    "tags": []
   },
   "outputs": [],
   "source": [
    "df = df.fillna(df.mean())\n",
    "test = test.fillna(test.mean())\n"
   ]
  },
  {
   "cell_type": "code",
   "execution_count": 11,
   "id": "a8d2d991",
   "metadata": {
    "execution": {
     "iopub.execute_input": "2022-03-03T07:40:36.373978Z",
     "iopub.status.busy": "2022-03-03T07:40:36.373342Z",
     "iopub.status.idle": "2022-03-03T07:40:37.438477Z",
     "shell.execute_reply": "2022-03-03T07:40:37.437865Z",
     "shell.execute_reply.started": "2022-03-03T07:39:03.515706Z"
    },
    "papermill": {
     "duration": 1.092471,
     "end_time": "2022-03-03T07:40:37.438633",
     "exception": false,
     "start_time": "2022-03-03T07:40:36.346162",
     "status": "completed"
    },
    "tags": []
   },
   "outputs": [],
   "source": [
    "from sklearn.linear_model import LinearRegression\n",
    "from sklearn.model_selection import train_test_split\n",
    "y = df.SalePrice\n",
    "X = df.drop(columns = ['SalePrice'])"
   ]
  },
  {
   "cell_type": "code",
   "execution_count": 12,
   "id": "501b3f3f",
   "metadata": {
    "execution": {
     "iopub.execute_input": "2022-03-03T07:40:37.487620Z",
     "iopub.status.busy": "2022-03-03T07:40:37.486750Z",
     "iopub.status.idle": "2022-03-03T07:40:37.490876Z",
     "shell.execute_reply": "2022-03-03T07:40:37.491264Z",
     "shell.execute_reply.started": "2022-03-03T07:39:03.961963Z"
    },
    "papermill": {
     "duration": 0.030038,
     "end_time": "2022-03-03T07:40:37.491421",
     "exception": false,
     "start_time": "2022-03-03T07:40:37.461383",
     "status": "completed"
    },
    "tags": []
   },
   "outputs": [],
   "source": [
    "additional_columns = []\n",
    "for item in X.columns:\n",
    "    if not item in test.columns:\n",
    "        additional_columns.append(item)"
   ]
  },
  {
   "cell_type": "code",
   "execution_count": 13,
   "id": "08b1dc2a",
   "metadata": {
    "execution": {
     "iopub.execute_input": "2022-03-03T07:40:37.539991Z",
     "iopub.status.busy": "2022-03-03T07:40:37.539149Z",
     "iopub.status.idle": "2022-03-03T07:40:37.544434Z",
     "shell.execute_reply": "2022-03-03T07:40:37.544931Z",
     "shell.execute_reply.started": "2022-03-03T07:39:03.972509Z"
    },
    "papermill": {
     "duration": 0.031039,
     "end_time": "2022-03-03T07:40:37.545088",
     "exception": false,
     "start_time": "2022-03-03T07:40:37.514049",
     "status": "completed"
    },
    "tags": []
   },
   "outputs": [],
   "source": [
    "X = X.drop(columns = additional_columns)"
   ]
  },
  {
   "cell_type": "code",
   "execution_count": 14,
   "id": "7d0dceac",
   "metadata": {
    "execution": {
     "iopub.execute_input": "2022-03-03T07:40:37.593750Z",
     "iopub.status.busy": "2022-03-03T07:40:37.592776Z",
     "iopub.status.idle": "2022-03-03T07:40:37.597364Z",
     "shell.execute_reply": "2022-03-03T07:40:37.597907Z",
     "shell.execute_reply.started": "2022-03-03T07:39:03.987807Z"
    },
    "papermill": {
     "duration": 0.030388,
     "end_time": "2022-03-03T07:40:37.598091",
     "exception": false,
     "start_time": "2022-03-03T07:40:37.567703",
     "status": "completed"
    },
    "tags": []
   },
   "outputs": [
    {
     "name": "stdout",
     "output_type": "stream",
     "text": [
      "228\n",
      "228\n"
     ]
    }
   ],
   "source": [
    "print(len(X.columns))\n",
    "print(len(test.columns))"
   ]
  },
  {
   "cell_type": "code",
   "execution_count": 15,
   "id": "4b71c2f3",
   "metadata": {
    "execution": {
     "iopub.execute_input": "2022-03-03T07:40:37.647021Z",
     "iopub.status.busy": "2022-03-03T07:40:37.646465Z",
     "iopub.status.idle": "2022-03-03T07:40:37.654071Z",
     "shell.execute_reply": "2022-03-03T07:40:37.654544Z",
     "shell.execute_reply.started": "2022-03-03T07:39:04.007604Z"
    },
    "papermill": {
     "duration": 0.033495,
     "end_time": "2022-03-03T07:40:37.654725",
     "exception": false,
     "start_time": "2022-03-03T07:40:37.621230",
     "status": "completed"
    },
    "tags": []
   },
   "outputs": [],
   "source": [
    "X_train, X_test, y_train, y_test = train_test_split(X, y, test_size=0.2, random_state=42)"
   ]
  },
  {
   "cell_type": "code",
   "execution_count": 16,
   "id": "17d83fb7",
   "metadata": {
    "execution": {
     "iopub.execute_input": "2022-03-03T07:40:37.703337Z",
     "iopub.status.busy": "2022-03-03T07:40:37.702778Z",
     "iopub.status.idle": "2022-03-03T07:40:37.768486Z",
     "shell.execute_reply": "2022-03-03T07:40:37.769371Z",
     "shell.execute_reply.started": "2022-03-03T07:39:04.026705Z"
    },
    "papermill": {
     "duration": 0.091979,
     "end_time": "2022-03-03T07:40:37.769663",
     "exception": false,
     "start_time": "2022-03-03T07:40:37.677684",
     "status": "completed"
    },
    "tags": []
   },
   "outputs": [],
   "source": [
    "lin_reg = LinearRegression().fit(X,y)\n",
    "# lin_reg.score(X_test,y_test)\n"
   ]
  },
  {
   "cell_type": "code",
   "execution_count": 17,
   "id": "5d16fe01",
   "metadata": {
    "execution": {
     "iopub.execute_input": "2022-03-03T07:40:37.872888Z",
     "iopub.status.busy": "2022-03-03T07:40:37.871882Z",
     "iopub.status.idle": "2022-03-03T07:40:37.893291Z",
     "shell.execute_reply": "2022-03-03T07:40:37.894758Z",
     "shell.execute_reply.started": "2022-03-03T07:40:07.374352Z"
    },
    "papermill": {
     "duration": 0.080184,
     "end_time": "2022-03-03T07:40:37.895034",
     "exception": false,
     "start_time": "2022-03-03T07:40:37.814850",
     "status": "completed"
    },
    "tags": []
   },
   "outputs": [],
   "source": [
    "predict_2 = lin_reg.predict(X_test)\n",
    "predict_1 = lin_reg.predict(X_train)"
   ]
  },
  {
   "cell_type": "code",
   "execution_count": 18,
   "id": "f01def67",
   "metadata": {
    "execution": {
     "iopub.execute_input": "2022-03-03T07:40:37.996240Z",
     "iopub.status.busy": "2022-03-03T07:40:37.994431Z",
     "iopub.status.idle": "2022-03-03T07:40:37.997105Z",
     "shell.execute_reply": "2022-03-03T07:40:37.995391Z",
     "shell.execute_reply.started": "2022-03-03T07:39:04.095971Z"
    },
    "papermill": {
     "duration": 0.056442,
     "end_time": "2022-03-03T07:40:37.997308",
     "exception": false,
     "start_time": "2022-03-03T07:40:37.940866",
     "status": "completed"
    },
    "tags": []
   },
   "outputs": [],
   "source": [
    "# print(\"Training set score: {:.2f}\".format(lin_reg.score(X_train, y_train))) \n",
    "# print(\"Test set score: {:.2f}\".format(lin_reg.score(X_test, y_test)))"
   ]
  },
  {
   "cell_type": "code",
   "execution_count": 19,
   "id": "53bb4d2c",
   "metadata": {
    "execution": {
     "iopub.execute_input": "2022-03-03T07:40:38.054928Z",
     "iopub.status.busy": "2022-03-03T07:40:38.054222Z",
     "iopub.status.idle": "2022-03-03T07:40:38.056590Z",
     "shell.execute_reply": "2022-03-03T07:40:38.057038Z",
     "shell.execute_reply.started": "2022-03-03T07:39:50.464260Z"
    },
    "papermill": {
     "duration": 0.030059,
     "end_time": "2022-03-03T07:40:38.057194",
     "exception": false,
     "start_time": "2022-03-03T07:40:38.027135",
     "status": "completed"
    },
    "tags": []
   },
   "outputs": [],
   "source": [
    "from sklearn import metrics\n",
    "\n",
    "# print(\"MAE\", metrics.mean_absolute_error(y_test,predict_2))  # Mean Absolute error\n",
    "# print(\"MSE\", metrics.mean_squared_error(y_test,predict_2)) # Mean Square error\n",
    "# print(\"RMSE\", np.sqrt(metrics.mean_squared_error(y_test,predict_2))) # Root Mean Square error"
   ]
  },
  {
   "cell_type": "code",
   "execution_count": 20,
   "id": "d1138daf",
   "metadata": {
    "execution": {
     "iopub.execute_input": "2022-03-03T07:40:38.106893Z",
     "iopub.status.busy": "2022-03-03T07:40:38.105972Z",
     "iopub.status.idle": "2022-03-03T07:40:38.108964Z",
     "shell.execute_reply": "2022-03-03T07:40:38.109470Z",
     "shell.execute_reply.started": "2022-03-03T07:39:53.310689Z"
    },
    "papermill": {
     "duration": 0.029516,
     "end_time": "2022-03-03T07:40:38.109692",
     "exception": false,
     "start_time": "2022-03-03T07:40:38.080176",
     "status": "completed"
    },
    "tags": []
   },
   "outputs": [],
   "source": [
    "# test.describe()"
   ]
  },
  {
   "cell_type": "code",
   "execution_count": 21,
   "id": "c8f75dbd",
   "metadata": {
    "execution": {
     "iopub.execute_input": "2022-03-03T07:40:38.158893Z",
     "iopub.status.busy": "2022-03-03T07:40:38.158023Z",
     "iopub.status.idle": "2022-03-03T07:40:38.171064Z",
     "shell.execute_reply": "2022-03-03T07:40:38.171872Z",
     "shell.execute_reply.started": "2022-03-03T07:39:56.799144Z"
    },
    "papermill": {
     "duration": 0.039567,
     "end_time": "2022-03-03T07:40:38.172165",
     "exception": false,
     "start_time": "2022-03-03T07:40:38.132598",
     "status": "completed"
    },
    "tags": []
   },
   "outputs": [],
   "source": [
    "predictions = lin_reg.predict(test)"
   ]
  },
  {
   "cell_type": "code",
   "execution_count": 22,
   "id": "a0ee69ed",
   "metadata": {
    "execution": {
     "iopub.execute_input": "2022-03-03T07:40:38.276364Z",
     "iopub.status.busy": "2022-03-03T07:40:38.275358Z",
     "iopub.status.idle": "2022-03-03T07:40:38.290733Z",
     "shell.execute_reply": "2022-03-03T07:40:38.291572Z",
     "shell.execute_reply.started": "2022-03-03T07:39:57.022308Z"
    },
    "papermill": {
     "duration": 0.072463,
     "end_time": "2022-03-03T07:40:38.291751",
     "exception": false,
     "start_time": "2022-03-03T07:40:38.219288",
     "status": "completed"
    },
    "tags": []
   },
   "outputs": [],
   "source": [
    "res=pd.DataFrame(columns = ['Id', 'SalePrice'])\n",
    "res['Id'] = test['Id']\n",
    "res['SalePrice'] = predictions\n",
    "res.to_csv('submission.csv',index=False)"
   ]
  },
  {
   "cell_type": "code",
   "execution_count": 23,
   "id": "6512d3ff",
   "metadata": {
    "execution": {
     "iopub.execute_input": "2022-03-03T07:40:38.342769Z",
     "iopub.status.busy": "2022-03-03T07:40:38.341830Z",
     "iopub.status.idle": "2022-03-03T07:40:38.348031Z",
     "shell.execute_reply": "2022-03-03T07:40:38.348838Z",
     "shell.execute_reply.started": "2022-03-03T07:40:11.319207Z"
    },
    "papermill": {
     "duration": 0.033703,
     "end_time": "2022-03-03T07:40:38.349119",
     "exception": false,
     "start_time": "2022-03-03T07:40:38.315416",
     "status": "completed"
    },
    "tags": []
   },
   "outputs": [
    {
     "name": "stdout",
     "output_type": "stream",
     "text": [
      "RMSE 25512.50907599416\n"
     ]
    }
   ],
   "source": [
    "print(\"RMSE\", np.sqrt(metrics.mean_squared_error(y_test,predict_2))) # Root Mean Square error"
   ]
  }
 ],
 "metadata": {
  "kernelspec": {
   "display_name": "Python 3",
   "language": "python",
   "name": "python3"
  },
  "language_info": {
   "codemirror_mode": {
    "name": "ipython",
    "version": 3
   },
   "file_extension": ".py",
   "mimetype": "text/x-python",
   "name": "python",
   "nbconvert_exporter": "python",
   "pygments_lexer": "ipython3",
   "version": "3.7.12"
  },
  "papermill": {
   "default_parameters": {},
   "duration": 12.520843,
   "end_time": "2022-03-03T07:40:39.223932",
   "environment_variables": {},
   "exception": null,
   "input_path": "__notebook__.ipynb",
   "output_path": "__notebook__.ipynb",
   "parameters": {},
   "start_time": "2022-03-03T07:40:26.703089",
   "version": "2.3.3"
  }
 },
 "nbformat": 4,
 "nbformat_minor": 5
}
