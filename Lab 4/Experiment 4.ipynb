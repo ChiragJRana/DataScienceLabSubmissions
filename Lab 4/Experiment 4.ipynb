{
  "cells": [
    {
      "cell_type": "markdown",
      "metadata": {},
      "source": [
        "# Experiment 4\n",
        "### Chirag Rana - 2018130043"
      ]
    },
    {
      "cell_type": "markdown",
      "metadata": {},
      "source": [
        "Perform statistical data analysis such as: Estimators of the main statistical measures (mean, variance, standard deviation, covariance correlation, standard error), Main distributions ( Normal distribution, chi-square distribution), Hypothesis testing, pair-wise association (Pearson correlation test, t-test, ANOVA), Non-parametric test (Spearman rank0 etc)"
      ]
    },
    {
      "cell_type": "markdown",
      "metadata": {},
      "source": [
        "#### Importing the necessary libraries"
      ]
    },
    {
      "cell_type": "code",
      "execution_count": 1,
      "metadata": {
        "colab": {
          "base_uri": "https://localhost:8080/"
        },
        "id": "biOhU3DvM4Hz",
        "outputId": "2be279a4-894e-4eab-e6d7-1c934b702134"
      },
      "outputs": [],
      "source": [
        "import pandas as pd\n",
        "import numpy as np\n",
        "import plotly.figure_factory as ff"
      ]
    },
    {
      "cell_type": "code",
      "execution_count": 2,
      "metadata": {
        "colab": {
          "base_uri": "https://localhost:8080/",
          "height": 206
        },
        "id": "kqAI3q1kOTsF",
        "outputId": "587eac3c-82fb-458d-c651-282f46e17d15"
      },
      "outputs": [
        {
          "data": {
            "text/html": [
              "<div>\n",
              "<style scoped>\n",
              "    .dataframe tbody tr th:only-of-type {\n",
              "        vertical-align: middle;\n",
              "    }\n",
              "\n",
              "    .dataframe tbody tr th {\n",
              "        vertical-align: top;\n",
              "    }\n",
              "\n",
              "    .dataframe thead th {\n",
              "        text-align: right;\n",
              "    }\n",
              "</style>\n",
              "<table border=\"1\" class=\"dataframe\">\n",
              "  <thead>\n",
              "    <tr style=\"text-align: right;\">\n",
              "      <th></th>\n",
              "      <th>Year</th>\n",
              "      <th>Mean</th>\n",
              "      <th>Number of Trend Sites</th>\n",
              "      <th>10th Percentile</th>\n",
              "      <th>90th Percentile</th>\n",
              "    </tr>\n",
              "  </thead>\n",
              "  <tbody>\n",
              "    <tr>\n",
              "      <th>0</th>\n",
              "      <td>1980</td>\n",
              "      <td>0.101250</td>\n",
              "      <td>188</td>\n",
              "      <td>0.070</td>\n",
              "      <td>0.131</td>\n",
              "    </tr>\n",
              "    <tr>\n",
              "      <th>1</th>\n",
              "      <td>1981</td>\n",
              "      <td>0.096027</td>\n",
              "      <td>188</td>\n",
              "      <td>0.071</td>\n",
              "      <td>0.117</td>\n",
              "    </tr>\n",
              "    <tr>\n",
              "      <th>2</th>\n",
              "      <td>1982</td>\n",
              "      <td>0.094481</td>\n",
              "      <td>188</td>\n",
              "      <td>0.069</td>\n",
              "      <td>0.122</td>\n",
              "    </tr>\n",
              "    <tr>\n",
              "      <th>3</th>\n",
              "      <td>1983</td>\n",
              "      <td>0.102059</td>\n",
              "      <td>188</td>\n",
              "      <td>0.072</td>\n",
              "      <td>0.136</td>\n",
              "    </tr>\n",
              "    <tr>\n",
              "      <th>4</th>\n",
              "      <td>1984</td>\n",
              "      <td>0.094330</td>\n",
              "      <td>188</td>\n",
              "      <td>0.071</td>\n",
              "      <td>0.123</td>\n",
              "    </tr>\n",
              "  </tbody>\n",
              "</table>\n",
              "</div>"
            ],
            "text/plain": [
              "   Year      Mean  Number of Trend Sites  10th Percentile  90th Percentile\n",
              "0  1980  0.101250                    188            0.070            0.131\n",
              "1  1981  0.096027                    188            0.071            0.117\n",
              "2  1982  0.094481                    188            0.069            0.122\n",
              "3  1983  0.102059                    188            0.072            0.136\n",
              "4  1984  0.094330                    188            0.071            0.123"
            ]
          },
          "execution_count": 2,
          "metadata": {},
          "output_type": "execute_result"
        }
      ],
      "source": [
        "df = pd.read_csv('OzoneNational.csv')\n",
        "df.head()"
      ]
    },
    {
      "cell_type": "code",
      "execution_count": 3,
      "metadata": {
        "colab": {
          "base_uri": "https://localhost:8080/"
        },
        "id": "zKEo8qmgPdz0",
        "outputId": "49cc53f4-f923-4f50-c58b-783ebe735d1c"
      },
      "outputs": [
        {
          "name": "stdout",
          "output_type": "stream",
          "text": [
            "Shape of data:  (41, 5)\n",
            "<class 'pandas.core.frame.DataFrame'>\n",
            "RangeIndex: 41 entries, 0 to 40\n",
            "Data columns (total 5 columns):\n",
            " #   Column                 Non-Null Count  Dtype  \n",
            "---  ------                 --------------  -----  \n",
            " 0   Year                   41 non-null     int64  \n",
            " 1   Mean                   41 non-null     float64\n",
            " 2   Number of Trend Sites  41 non-null     int64  \n",
            " 3   10th Percentile        41 non-null     float64\n",
            " 4   90th Percentile        41 non-null     float64\n",
            "dtypes: float64(3), int64(2)\n",
            "memory usage: 1.7 KB\n"
          ]
        }
      ],
      "source": [
        "print(\"Shape of data: \",df.shape)\n",
        "df.info()"
      ]
    },
    {
      "cell_type": "code",
      "execution_count": 4,
      "metadata": {
        "colab": {
          "base_uri": "https://localhost:8080/"
        },
        "id": "QMsEisWAPLk4",
        "outputId": "e1f8cc0b-9c6d-4f44-99f5-13089f1d5884"
      },
      "outputs": [
        {
          "data": {
            "text/plain": [
              "Index(['Year', 'Mean', 'Number of Trend Sites', '10th Percentile',\n",
              "       '90th Percentile'],\n",
              "      dtype='object')"
            ]
          },
          "execution_count": 4,
          "metadata": {},
          "output_type": "execute_result"
        }
      ],
      "source": [
        "df.columns"
      ]
    },
    {
      "cell_type": "code",
      "execution_count": 5,
      "metadata": {
        "colab": {
          "base_uri": "https://localhost:8080/",
          "height": 300
        },
        "id": "4uz_th4JPSn3",
        "outputId": "5af33d2c-5977-4825-8bbd-b966190f65e0"
      },
      "outputs": [
        {
          "name": "stdout",
          "output_type": "stream",
          "text": [
            "Range for Year variable: 40.0\n",
            "Range for Mean variable: 0.038907801379999996\n",
            "Range for Number of Trend Sites variable: 0.0\n",
            "Range for 10th Percentile variable: 0.020999999999999998\n",
            "Range for 10th Percentile variable: 0.06000000000000001\n"
          ]
        },
        {
          "data": {
            "text/html": [
              "<div>\n",
              "<style scoped>\n",
              "    .dataframe tbody tr th:only-of-type {\n",
              "        vertical-align: middle;\n",
              "    }\n",
              "\n",
              "    .dataframe tbody tr th {\n",
              "        vertical-align: top;\n",
              "    }\n",
              "\n",
              "    .dataframe thead th {\n",
              "        text-align: right;\n",
              "    }\n",
              "</style>\n",
              "<table border=\"1\" class=\"dataframe\">\n",
              "  <thead>\n",
              "    <tr style=\"text-align: right;\">\n",
              "      <th></th>\n",
              "      <th>count</th>\n",
              "      <th>mean</th>\n",
              "      <th>std</th>\n",
              "      <th>min</th>\n",
              "      <th>25%</th>\n",
              "      <th>50%</th>\n",
              "      <th>75%</th>\n",
              "      <th>max</th>\n",
              "    </tr>\n",
              "  </thead>\n",
              "  <tbody>\n",
              "    <tr>\n",
              "      <th>Year</th>\n",
              "      <td>41.0</td>\n",
              "      <td>2000.000000</td>\n",
              "      <td>11.979149</td>\n",
              "      <td>1980.000000</td>\n",
              "      <td>1990.000000</td>\n",
              "      <td>2000.000000</td>\n",
              "      <td>2010.000000</td>\n",
              "      <td>2020.000000</td>\n",
              "    </tr>\n",
              "    <tr>\n",
              "      <th>Mean</th>\n",
              "      <td>41.0</td>\n",
              "      <td>0.083428</td>\n",
              "      <td>0.010745</td>\n",
              "      <td>0.066415</td>\n",
              "      <td>0.074734</td>\n",
              "      <td>0.084689</td>\n",
              "      <td>0.091191</td>\n",
              "      <td>0.105323</td>\n",
              "    </tr>\n",
              "    <tr>\n",
              "      <th>Number of Trend Sites</th>\n",
              "      <td>41.0</td>\n",
              "      <td>188.000000</td>\n",
              "      <td>0.000000</td>\n",
              "      <td>188.000000</td>\n",
              "      <td>188.000000</td>\n",
              "      <td>188.000000</td>\n",
              "      <td>188.000000</td>\n",
              "      <td>188.000000</td>\n",
              "    </tr>\n",
              "    <tr>\n",
              "      <th>10th Percentile</th>\n",
              "      <td>41.0</td>\n",
              "      <td>0.067098</td>\n",
              "      <td>0.005093</td>\n",
              "      <td>0.055000</td>\n",
              "      <td>0.063000</td>\n",
              "      <td>0.068000</td>\n",
              "      <td>0.071000</td>\n",
              "      <td>0.076000</td>\n",
              "    </tr>\n",
              "    <tr>\n",
              "      <th>90th Percentile</th>\n",
              "      <td>41.0</td>\n",
              "      <td>0.100488</td>\n",
              "      <td>0.016709</td>\n",
              "      <td>0.076000</td>\n",
              "      <td>0.086000</td>\n",
              "      <td>0.099000</td>\n",
              "      <td>0.113000</td>\n",
              "      <td>0.136000</td>\n",
              "    </tr>\n",
              "  </tbody>\n",
              "</table>\n",
              "</div>"
            ],
            "text/plain": [
              "                       count         mean        std          min  \\\n",
              "Year                    41.0  2000.000000  11.979149  1980.000000   \n",
              "Mean                    41.0     0.083428   0.010745     0.066415   \n",
              "Number of Trend Sites   41.0   188.000000   0.000000   188.000000   \n",
              "10th Percentile         41.0     0.067098   0.005093     0.055000   \n",
              "90th Percentile         41.0     0.100488   0.016709     0.076000   \n",
              "\n",
              "                               25%          50%          75%          max  \n",
              "Year                   1990.000000  2000.000000  2010.000000  2020.000000  \n",
              "Mean                      0.074734     0.084689     0.091191     0.105323  \n",
              "Number of Trend Sites   188.000000   188.000000   188.000000   188.000000  \n",
              "10th Percentile           0.063000     0.068000     0.071000     0.076000  \n",
              "90th Percentile           0.086000     0.099000     0.113000     0.136000  "
            ]
          },
          "execution_count": 5,
          "metadata": {},
          "output_type": "execute_result"
        }
      ],
      "source": [
        "df_descrb = df.describe().T\n",
        "print('Range for Year variable:',df_descrb.loc['Year']['max']-df_descrb.loc['Year']['min'])\n",
        "print('Range for Mean variable:',df_descrb.loc['Mean']['max']-df_descrb.loc['Mean']['min'])\n",
        "print('Range for Number of Trend Sites variable:',df_descrb.loc['Number of Trend Sites']['max']-df_descrb.loc['Number of Trend Sites']['min'])\n",
        "print('Range for 10th Percentile variable:',df_descrb.loc['10th Percentile']['max']-df_descrb.loc['10th Percentile']['min'])\n",
        "print('Range for 10th Percentile variable:',df_descrb.loc['90th Percentile']['max']-df_descrb.loc['90th Percentile']['min'])\n",
        "df_descrb"
      ]
    },
    {
      "cell_type": "code",
      "execution_count": 6,
      "metadata": {
        "colab": {
          "base_uri": "https://localhost:8080/"
        },
        "id": "c-kJJ2yrRsQO",
        "outputId": "89d1d0bb-490c-42eb-a9da-b04ff797bc69"
      },
      "outputs": [
        {
          "name": "stdout",
          "output_type": "stream",
          "text": [
            "0.1004878048780488\n"
          ]
        }
      ],
      "source": [
        "from scipy.stats import ttest_1samp\n",
        "ozone_mean = np.mean(df['90th Percentile'])\n",
        "print(ozone_mean)"
      ]
    },
    {
      "cell_type": "code",
      "execution_count": 7,
      "metadata": {
        "colab": {
          "base_uri": "https://localhost:8080/"
        },
        "id": "ptZe0v-AXTvW",
        "outputId": "edebe471-b7b9-4e86-bd0b-d205c50b9d80"
      },
      "outputs": [
        {
          "name": "stdout",
          "output_type": "stream",
          "text": [
            "0.34990419769950176\n"
          ]
        }
      ],
      "source": [
        "sample = df['90th Percentile'].sample(n=20)\n",
        "tset, pval = ttest_1samp(sample, ozone_mean)\n",
        "print(pval)"
      ]
    },
    {
      "cell_type": "code",
      "execution_count": 8,
      "metadata": {
        "colab": {
          "base_uri": "https://localhost:8080/"
        },
        "id": "322vR-pGYYbr",
        "outputId": "d54bb3b0-5588-4b5e-8c33-b8d503cbfe8f"
      },
      "outputs": [
        {
          "name": "stdout",
          "output_type": "stream",
          "text": [
            "we fail to reject null Hypothesis\n"
          ]
        }
      ],
      "source": [
        "if pval < 0.05:    # alpha value is 0.05 or 5%\n",
        "   print(\" we are rejecting null hypothesis\")\n",
        "else:\n",
        "  print(\"we fail to reject null Hypothesis\")"
      ]
    },
    {
      "cell_type": "markdown",
      "metadata": {},
      "source": [
        "### Hypothesis Testing\n",
        "#### Prove (or disprove) with statistical evidence that the Ozone of high means is different from that of lows means.\n",
        "Let  μ1, μ2  and be the respective population means for Ozone of lows and Ozone of highs\n",
        "\n",
        "\n",
        "**Step 1: Define null and alternative hypothesis**\n",
        "\n",
        " **H0:** μ1−μ2=0 There is no difference between the Ozone of low and Ozone of high.\n",
        " \n",
        " **Ha:** μ1−μ2!=0  There is difference between the Ozone of low and Ozone of high.\n",
        "\n",
        "\n",
        "**Step 2: Decide the significance level**: α = 0.05\n",
        "\n",
        "\n",
        "**Step 3: Identify the test**: Independent T-test\n",
        "\n",
        "A t-test is used to compare the mean of two given samples. Like a z-test, a t-test also assumes a normal distribution of the sample. A t-test is used when the population parameters (mean and standard deviation) are not known.\n",
        "\n",
        "Independent T-Test: Independent samples t-test which compares mean for two groups.\n",
        "\n",
        "\n",
        "**Step 4: Calculate the test-statistics and p-value**\n",
        "    \n",
        "Here, the test-statistic is called t-statistic, the score for which is calculated as:\n",
        "    \n",
        "t = (x1 — x2) / (σ / √n1 + σ / √n2)\n",
        "\n",
        "where\n",
        "\n",
        "x1 = mean of sample 1\n",
        "\n",
        "x2 = mean of sample 2\n",
        "\n",
        "n1 = size of sample 1\n",
        "\n",
        "n2 = size of sample 2\n",
        "\n",
        "\n",
        "**Step 5: Decide to reject or accept null hypothesis**\n",
        "\n",
        "The observation is that p-value(0.09) is greater than the significance level alpha(0.05)."
      ]
    },
    {
      "cell_type": "code",
      "execution_count": 9,
      "metadata": {
        "colab": {
          "base_uri": "https://localhost:8080/",
          "height": 542
        },
        "id": "KMW_ZC4WbCsQ",
        "outputId": "2007accf-4c51-4856-e95a-bb4957b6192f"
      },
      "outputs": [
        {
          "data": {
            "application/vnd.plotly.v1+json": {
              "config": {
                "plotlyServerURL": "https://plot.ly"
              },
              "data": [
                {
                  "autobinx": false,
                  "histnorm": "probability density",
                  "legendgroup": "90th Percentile",
                  "marker": {
                    "color": "salmon"
                  },
                  "name": "90th Percentile",
                  "opacity": 0.7,
                  "type": "histogram",
                  "x": [
                    0.115,
                    0.083,
                    0.105,
                    0.099,
                    0.136,
                    0.086,
                    0.131,
                    0.117,
                    0.135,
                    0.113,
                    0.107,
                    0.103,
                    0.078,
                    0.087,
                    0.11,
                    0.084,
                    0.103,
                    0.081,
                    0.11,
                    0.102
                  ],
                  "xaxis": "x",
                  "xbins": {
                    "end": 0.136,
                    "size": 0.1,
                    "start": 0.078
                  },
                  "yaxis": "y"
                },
                {
                  "legendgroup": "90th Percentile",
                  "marker": {
                    "color": "salmon"
                  },
                  "mode": "lines",
                  "name": "90th Percentile",
                  "showlegend": false,
                  "type": "scatter",
                  "x": [
                    0.078,
                    0.078116,
                    0.078232,
                    0.078348,
                    0.078464,
                    0.07858,
                    0.078696,
                    0.078812,
                    0.078928,
                    0.079044,
                    0.07916,
                    0.079276,
                    0.079392,
                    0.079508,
                    0.079624,
                    0.07974,
                    0.079856,
                    0.079972,
                    0.080088,
                    0.080204,
                    0.08032,
                    0.080436,
                    0.080552,
                    0.080668,
                    0.080784,
                    0.0809,
                    0.081016,
                    0.081132,
                    0.081248,
                    0.081364,
                    0.08148,
                    0.081596,
                    0.081712,
                    0.081828,
                    0.081944,
                    0.08206,
                    0.082176,
                    0.082292,
                    0.082408,
                    0.082524,
                    0.08264,
                    0.082756,
                    0.082872,
                    0.082988,
                    0.083104,
                    0.08322,
                    0.08333600000000001,
                    0.083452,
                    0.083568,
                    0.083684,
                    0.0838,
                    0.083916,
                    0.084032,
                    0.084148,
                    0.084264,
                    0.08438,
                    0.084496,
                    0.084612,
                    0.084728,
                    0.084844,
                    0.08496000000000001,
                    0.085076,
                    0.085192,
                    0.085308,
                    0.085424,
                    0.08554,
                    0.085656,
                    0.085772,
                    0.085888,
                    0.086004,
                    0.08612,
                    0.08623600000000001,
                    0.086352,
                    0.086468,
                    0.086584,
                    0.0867,
                    0.086816,
                    0.08693200000000001,
                    0.087048,
                    0.087164,
                    0.08728,
                    0.087396,
                    0.087512,
                    0.087628,
                    0.087744,
                    0.08786,
                    0.087976,
                    0.088092,
                    0.08820800000000001,
                    0.088324,
                    0.08844,
                    0.088556,
                    0.088672,
                    0.088788,
                    0.088904,
                    0.08902,
                    0.089136,
                    0.089252,
                    0.089368,
                    0.08948400000000001,
                    0.0896,
                    0.089716,
                    0.089832,
                    0.089948,
                    0.090064,
                    0.09018,
                    0.090296,
                    0.090412,
                    0.090528,
                    0.090644,
                    0.09076000000000001,
                    0.090876,
                    0.090992,
                    0.091108,
                    0.091224,
                    0.09134,
                    0.09145600000000001,
                    0.091572,
                    0.091688,
                    0.091804,
                    0.09192,
                    0.092036,
                    0.092152,
                    0.092268,
                    0.09238400000000001,
                    0.0925,
                    0.092616,
                    0.09273200000000001,
                    0.092848,
                    0.092964,
                    0.09308,
                    0.093196,
                    0.093312,
                    0.093428,
                    0.093544,
                    0.09366,
                    0.093776,
                    0.093892,
                    0.09400800000000001,
                    0.094124,
                    0.09424,
                    0.094356,
                    0.094472,
                    0.094588,
                    0.09470400000000001,
                    0.09482,
                    0.094936,
                    0.095052,
                    0.095168,
                    0.09528400000000001,
                    0.0954,
                    0.095516,
                    0.095632,
                    0.095748,
                    0.095864,
                    0.09598000000000001,
                    0.096096,
                    0.096212,
                    0.096328,
                    0.096444,
                    0.09656,
                    0.096676,
                    0.096792,
                    0.09690800000000001,
                    0.097024,
                    0.09714,
                    0.09725600000000001,
                    0.097372,
                    0.097488,
                    0.097604,
                    0.09772,
                    0.097836,
                    0.097952,
                    0.098068,
                    0.09818400000000001,
                    0.0983,
                    0.098416,
                    0.09853200000000001,
                    0.098648,
                    0.098764,
                    0.09888,
                    0.098996,
                    0.099112,
                    0.09922800000000001,
                    0.099344,
                    0.09946,
                    0.099576,
                    0.099692,
                    0.09980800000000001,
                    0.099924,
                    0.10004,
                    0.100156,
                    0.100272,
                    0.100388,
                    0.10050400000000001,
                    0.10062,
                    0.100736,
                    0.100852,
                    0.100968,
                    0.10108400000000001,
                    0.1012,
                    0.101316,
                    0.10143200000000001,
                    0.101548,
                    0.101664,
                    0.10178000000000001,
                    0.101896,
                    0.102012,
                    0.102128,
                    0.102244,
                    0.10236,
                    0.102476,
                    0.102592,
                    0.10270800000000001,
                    0.102824,
                    0.10294,
                    0.10305600000000001,
                    0.103172,
                    0.103288,
                    0.103404,
                    0.10352,
                    0.103636,
                    0.10375200000000001,
                    0.103868,
                    0.10398400000000001,
                    0.1041,
                    0.104216,
                    0.10433200000000001,
                    0.104448,
                    0.104564,
                    0.10468,
                    0.104796,
                    0.104912,
                    0.10502800000000001,
                    0.105144,
                    0.10526,
                    0.105376,
                    0.105492,
                    0.10560800000000001,
                    0.105724,
                    0.10584,
                    0.105956,
                    0.106072,
                    0.106188,
                    0.10630400000000001,
                    0.10642,
                    0.106536,
                    0.106652,
                    0.106768,
                    0.106884,
                    0.10700000000000001,
                    0.107116,
                    0.10723200000000001,
                    0.107348,
                    0.107464,
                    0.10758000000000001,
                    0.107696,
                    0.107812,
                    0.107928,
                    0.108044,
                    0.10816,
                    0.10827600000000001,
                    0.108392,
                    0.10850800000000001,
                    0.108624,
                    0.10874,
                    0.10885600000000001,
                    0.10897200000000001,
                    0.109088,
                    0.109204,
                    0.10932,
                    0.109436,
                    0.10955200000000001,
                    0.10966800000000002,
                    0.109784,
                    0.1099,
                    0.110016,
                    0.11013200000000001,
                    0.11024800000000001,
                    0.110364,
                    0.11048,
                    0.110596,
                    0.110712,
                    0.11082800000000001,
                    0.110944,
                    0.11105999999999999,
                    0.11117600000000001,
                    0.111292,
                    0.11140800000000001,
                    0.11152400000000001,
                    0.11164000000000002,
                    0.11175600000000001,
                    0.111872,
                    0.111988,
                    0.11210400000000001,
                    0.11222000000000001,
                    0.112336,
                    0.112452,
                    0.112568,
                    0.112684,
                    0.11280000000000001,
                    0.112916,
                    0.113032,
                    0.113148,
                    0.113264,
                    0.11338000000000001,
                    0.11349600000000001,
                    0.11361200000000002,
                    0.11372800000000001,
                    0.113844,
                    0.11396,
                    0.11407600000000001,
                    0.11419200000000002,
                    0.114308,
                    0.114424,
                    0.11454,
                    0.11465600000000001,
                    0.11477200000000001,
                    0.114888,
                    0.115004,
                    0.11512,
                    0.115236,
                    0.11535200000000001,
                    0.115468,
                    0.115584,
                    0.11570000000000001,
                    0.115816,
                    0.11593200000000001,
                    0.11604800000000001,
                    0.11616400000000002,
                    0.11628000000000001,
                    0.116396,
                    0.116512,
                    0.11662800000000001,
                    0.11674400000000001,
                    0.11686,
                    0.116976,
                    0.117092,
                    0.117208,
                    0.11732400000000001,
                    0.11744,
                    0.11755600000000001,
                    0.117672,
                    0.117788,
                    0.11790400000000001,
                    0.11802000000000001,
                    0.11813600000000002,
                    0.11825200000000001,
                    0.118368,
                    0.118484,
                    0.11860000000000001,
                    0.11871600000000002,
                    0.11883200000000001,
                    0.118948,
                    0.119064,
                    0.11918000000000001,
                    0.11929600000000001,
                    0.119412,
                    0.119528,
                    0.119644,
                    0.11976,
                    0.11987600000000001,
                    0.119992,
                    0.120108,
                    0.120224,
                    0.12034,
                    0.12045600000000001,
                    0.12057200000000001,
                    0.12068800000000002,
                    0.12080400000000001,
                    0.12092,
                    0.121036,
                    0.12115200000000001,
                    0.12126800000000001,
                    0.121384,
                    0.1215,
                    0.121616,
                    0.121732,
                    0.12184800000000001,
                    0.121964,
                    0.12208000000000001,
                    0.122196,
                    0.122312,
                    0.12242800000000001,
                    0.12254400000000001,
                    0.12266000000000002,
                    0.12277600000000001,
                    0.122892,
                    0.123008,
                    0.12312400000000001,
                    0.12324000000000002,
                    0.12335600000000001,
                    0.123472,
                    0.123588,
                    0.12370400000000001,
                    0.12382000000000001,
                    0.123936,
                    0.12405200000000001,
                    0.124168,
                    0.124284,
                    0.12440000000000001,
                    0.12451600000000002,
                    0.124632,
                    0.124748,
                    0.124864,
                    0.12498000000000001,
                    0.125096,
                    0.12521200000000002,
                    0.125328,
                    0.125444,
                    0.12556,
                    0.125676,
                    0.12579200000000001,
                    0.12590800000000002,
                    0.12602400000000002,
                    0.12614,
                    0.126256,
                    0.126372,
                    0.126488,
                    0.126604,
                    0.12672,
                    0.126836,
                    0.126952,
                    0.12706800000000001,
                    0.12718400000000002,
                    0.12730000000000002,
                    0.127416,
                    0.127532,
                    0.127648,
                    0.12776400000000002,
                    0.12788,
                    0.127996,
                    0.128112,
                    0.128228,
                    0.128344,
                    0.12846000000000002,
                    0.12857600000000002,
                    0.128692,
                    0.128808,
                    0.128924,
                    0.12904000000000002,
                    0.129156,
                    0.129272,
                    0.129388,
                    0.129504,
                    0.12962,
                    0.12973600000000002,
                    0.12985200000000002,
                    0.129968,
                    0.130084,
                    0.1302,
                    0.13031600000000002,
                    0.130432,
                    0.130548,
                    0.130664,
                    0.13078,
                    0.130896,
                    0.13101200000000002,
                    0.13112800000000002,
                    0.131244,
                    0.13136,
                    0.131476,
                    0.13159200000000001,
                    0.13170800000000002,
                    0.131824,
                    0.13194,
                    0.132056,
                    0.132172,
                    0.13228800000000002,
                    0.13240400000000002,
                    0.13252000000000003,
                    0.132636,
                    0.132752,
                    0.132868,
                    0.13298400000000002,
                    0.1331,
                    0.133216,
                    0.133332,
                    0.133448,
                    0.13356400000000002,
                    0.13368000000000002,
                    0.133796,
                    0.133912,
                    0.134028,
                    0.134144,
                    0.13426000000000002,
                    0.134376,
                    0.134492,
                    0.134608,
                    0.134724,
                    0.13484000000000002,
                    0.13495600000000002,
                    0.13507200000000003,
                    0.135188,
                    0.135304,
                    0.13542,
                    0.13553600000000002,
                    0.135652,
                    0.135768,
                    0.135884
                  ],
                  "xaxis": "x",
                  "y": [
                    10.872010153457579,
                    10.948196555032464,
                    11.023772273457684,
                    11.098723699689895,
                    11.173037582176446,
                    11.246701037869618,
                    11.319701563031344,
                    11.392027043816704,
                    11.46366576662454,
                    11.534606428203682,
                    11.604838145503358,
                    11.674350465256767,
                    11.743133373286355,
                    11.811177303520198,
                    11.878473146708755,
                    11.945012258831174,
                    12.01078646918121,
                    12.075788088122405,
                    12.140009914502786,
                    12.203445242719456,
                    12.266087869423735,
                    12.327932099857772,
                    12.388972753813917,
                    12.449205171208254,
                    12.50862521726025,
                    12.567229287270703,
                    12.625014310990236,
                    12.681977756571548,
                    12.73811763409835,
                    12.79343249868458,
                    12.847921453137912,
                    12.901584150181963,
                    12.954420794231623,
                    13.006432142716967,
                    13.05761950695108,
                    13.107984752537831,
                    13.157530299315964,
                    13.206259120836332,
                    13.254174743369521,
                    13.30128124444166,
                    13.347583250896374,
                    13.393085936481773,
                    13.43779501896144,
                    13.48171675674878,
                    13.52485794506521,
                    13.567225911622243,
                    13.608828511828646,
                    13.649674123524147,
                    13.689771641241604,
                    13.729130469999953,
                    13.767760518630979,
                    13.805672192643215,
                    13.842876386626823,
                    13.879384476203844,
                    13.915208309528563,
                    13.950360198343335,
                    13.984852908595672,
                    14.018699650622622,
                    14.051914068909477,
                    14.084510231429592,
                    14.116502618573167,
                    14.147906111672953,
                    14.178735981135427,
                    14.20900787418621,
                    14.238737802239351,
                    14.26794212789994,
                    14.296637551610493,
                    14.324841097951518,
                    14.352570101607293,
                    14.379842193008217,
                    14.406675283661421,
                    14.433087551181767,
                    14.459097424035589,
                    14.484723566010013,
                    14.509984860420813,
                    14.53490039407244,
                    14.559489440983574,
                    14.58377144589244,
                    14.607766007556016,
                    14.631492861857655,
                    14.654971864737739,
                    14.678222974962525,
                    14.701266236746157,
                    14.724121762241284,
                    14.746809713913827,
                    14.769350286817497,
                    14.791763690784045,
                    14.814070132545007,
                    14.83628979780124,
                    14.858442833256246,
                    14.880549328629575,
                    14.902629298666657,
                    14.924702665161316,
                    14.946789239007424,
                    14.968908702295984,
                    14.991080590474127,
                    15.013324274582162,
                    15.035658943585167,
                    15.058103586815275,
                    15.080676976540715,
                    15.103397650677817,
                    15.126283895661754,
                    15.149353729491963,
                    15.1726248849678,
                    15.196114793129897,
                    15.21984056692267,
                    15.24381898509292,
                    15.268066476339472,
                    15.292599103728588,
                    15.317432549389416,
                    15.342582099503788,
                    15.368062629604069,
                    15.39388859019287,
                    15.420073992697622,
                    15.446632395773229,
                    15.473576891965225,
                    15.500920094745876,
                    15.528674125935005,
                    15.556850603517205,
                    15.585460629866517,
                    15.61451478038943,
                    15.644023092596429,
                    15.673995055612266,
                    15.704439600134258,
                    15.73536508884777,
                    15.76677930730763,
                    15.798689455293571,
                    15.831102138647356,
                    15.864023361599077,
                    15.897458519589232,
                    15.931412392592938,
                    15.96588913895216,
                    16.000892289721225,
                    16.0364247435305,
                    16.072488761972608,
                    16.1090859655149,
                    16.146217329941738,
                    16.18388318332913,
                    16.222083203554345,
                    16.260816416342088,
                    16.300081193848715,
                    16.339875253785056,
                    16.380195659078478,
                    16.42103881807363,
                    16.46240048527135,
                    16.50427576260447,
                    16.54665910124882,
                    16.589544303967113,
                    16.63292452798317,
                    16.676792288383187,
                    16.721139462040394,
                    16.765957292059,
                    16.811236392732805,
                    16.85696675501342,
                    16.90313775248244,
                    16.949738147821943,
                    16.996756099776476,
                    17.044179170600124,
                    17.09199433398094,
                    17.140187983435712,
                    17.18874594116631,
                    17.23765346736968,
                    17.28689526999251,
                    17.33645551492128,
                    17.38631783659828,
                    17.436465349053655,
                    17.4868806573433,
                    17.537545869382004,
                    17.58844260816103,
                    17.639552024339075,
                    17.690854809195038,
                    17.742331207931016,
                    17.793961033313643,
                    17.84572367964145,
                    17.897598137025934,
                    17.949563005973733,
                    18.001596512257088,
                    18.053676522059526,
                    18.105780557383678,
                    18.157885811707935,
                    18.209969165878345,
                    18.262007204222286,
                    18.31397623087024,
                    18.365852286271654,
                    18.4176111638913,
                    18.469228427071958,
                    18.520679426049465,
                    18.571939315106196,
                    18.622983069848644,
                    18.673785504595294,
                    18.724321289860526,
                    18.774564969920426,
                    18.824490980446562,
                    18.87407366619373,
                    18.92328729872751,
                    18.972106094177875,
                    19.020504231005162,
                    19.06845586776425,
                    19.115935160853784,
                    19.162916282236594,
                    19.20937343711805,
                    19.255280881569078,
                    19.30061294008066,
                    19.34534402303689,
                    19.38944864409385,
                    19.432901437451505,
                    19.475677175006407,
                    19.517750783372847,
                    19.55909736076029,
                    19.59969219369562,
                    19.639510773578145,
                    19.678528813056342,
                    19.716722262215033,
                    19.754067324562037,
                    19.790540472803833,
                    19.826118464399595,
                    19.86077835688367,
                    19.89449752294646,
                    19.927253665264196,
                    19.959024831068277,
                    19.989789426445064,
                    20.01952623035739,
                    20.048214408379298,
                    20.075833526135902,
                    20.102363562440335,
                    20.127784922120263,
                    20.15207844852671,
                    20.175225435718062,
                    20.19720764031271,
                    20.21800729300377,
                    20.23760710972997,
                    20.25599030249674,
                    20.273140589842097,
                    20.289042206942206,
                    20.303679915351648,
                    20.317039012373808,
                    20.32910534005724,
                    20.339865293813865,
                    20.349305830655528,
                    20.357414477045303,
                    20.3641793363607,
                    20.36958909596583,
                    20.37363303389012,
                    20.37630102511131,
                    20.377583547440867,
                    20.377471687010157,
                    20.375957143355993,
                    20.373032234104492,
                    20.368689899252473,
                    20.362923705045763,
                    20.35572784745421,
                    20.347097155243382,
                    20.337027092643112,
                    20.325513761613486,
                    20.312553903708928,
                    20.298144901541455,
                    20.282284779844204,
                    20.264972206136804,
                    20.246206490994226,
                    20.22598758792099,
                    20.204316092832993,
                    20.1811932431491,
                    20.156620916495278,
                    20.13060162902388,
                    20.103138533351153,
                    20.07423541611605,
                    20.043896695163806,
                    20.012127416357703,
                    19.9789332500229,
                    19.94432048702609,
                    19.90829603449517,
                    19.87086741118315,
                    19.83204274248073,
                    19.791830755082064,
                    19.750240771308487,
                    19.707282703095128,
                    19.662967045645406,
                    19.617304870758538,
                    19.570307819835456,
                    19.521988096568556,
                    19.47235845932077,
                    19.421432213199836,
                    19.369223201833513,
                    19.31574579885157,
                    19.26101489908085,
                    19.20504590945935,
                    19.14785473967587,
                    19.089457792541317,
                    19.029871954098272,
                    18.96911458347569,
                    18.907203502494852,
                    18.84415698503388,
                    18.77999374615731,
                    18.714732931017974,
                    18.64839410353793,
                    18.58099723487576,
                    18.512562691687368,
                    18.44311122418748,
                    18.37266395401921,
                    18.301242361939316,
                    18.228868275326118,
                    18.155563855518103,
                    18.081351584990557,
                    18.00625425437796,
                    17.9302949493498,
                    17.853497037347562,
                    17.775884154190834,
                    17.69748019056015,
                    17.618309278364716,
                    17.538395777002826,
                    17.45776425952303,
                    17.376439498694005,
                    17.294446452991235,
                    17.211810252508705,
                    17.128556184803422,
                    17.044709680681322,
                    16.96029629993255,
                    16.875341717024163,
                    16.789871706758756,
                    16.703912129907167,
                    16.61748891882335,
                    16.53062806305002,
                    16.44335559492297,
                    16.35569757518269,
                    16.2676800786012,
                    16.179329179632887,
                    16.09067093809715,
                    16.00173138490128,
                    15.912536507812108,
                    15.823112237284247,
                    15.733484432353535,
                    15.643678866603555,
                    15.553721214213748,
                    15.463637036097237,
                    15.373451766136112,
                    15.283190697522818,
                    15.192878969215377,
                    15.102541552514491,
                    15.012203237770642,
                    14.921888621228874,
                    14.831622092019394,
                    14.741427819301418,
                    14.651329739568457,
                    14.561351544122296,
                    14.471516666723458,
                    14.381848271425628,
                    14.292369240601424,
                    14.203102163166923,
                    14.114069323011986,
                    14.025292687643802,
                    13.936793897050585,
                    13.848594252792022,
                    13.760714707323881,
                    13.673175853562984,
                    13.585997914699218,
                    13.49920073426126,
                    13.412803766441913,
                    13.32682606668957,
                    13.24128628257151,
                    13.15620264491517,
                    13.071592959232873,
                    12.987474597435613,
                    12.90386448984132,
                    12.820779117482735,
                    12.738234504719948,
                    12.656246212162317,
                    12.57482932990475,
                    12.493998471082287,
                    12.413767765747643,
                    12.334150855075691,
                    12.255160885898523,
                    12.176810505574933,
                    12.099111857197693,
                    12.022076575141693,
                    11.945715780956078,
                    11.87004007960289,
                    11.795059556045048,
                    11.720783772185534,
                    11.647221764160117,
                    11.574382039985217,
                    11.502272577562481,
                    11.43090082304136,
                    11.360273689540616,
                    11.29039755622974,
                    11.221278267770376,
                    11.152921134118436,
                    11.08533093068656,
                    11.018511898866748,
                    10.952467746912538,
                    10.887201651179975,
                    10.822716257726189,
                    10.759013684264161,
                    10.696095522472111,
                    10.63396284065556,
                    10.572616186759804,
                    10.512055591730336,
                    10.452280573218488,
                    10.393290139629281,
                    10.335082794508127,
                    10.277656541262788,
                    10.221008888216948,
                    10.16513685399096,
                    10.110036973205721,
                    10.05570530250481,
                    10.00213742689012,
                    9.94932846636576,
                    9.89727308288481,
                    9.845965487593384,
                    9.795399448365878,
                    9.745568297625413,
                    9.696464940443171,
                    9.648081862909658,
                    9.600411140771374,
                    9.553444448325703,
                    9.507173067566647,
                    9.461587897573983,
                    9.416679464138085,
                    9.372437929612598,
                    9.328853102986669,
                    9.285914450168507,
                    9.24361110447203,
                    9.20193187729748,
                    9.160865268997657,
                    9.120399479920485,
                    9.080522421619015,
                    9.041221728219373,
                    9.002484767937467,
                    8.964298654734796,
                    8.926650260103854,
                    8.889526224973228,
                    8.852912971722683,
                    8.816796716298237,
                    8.7811634804173,
                    8.745999103853665,
                    8.711289256792375,
                    8.677019452244148,
                    8.643175058509215,
                    8.609741311680288,
                    8.57670332817436,
                    8.544046117283125,
                    8.511754593731565,
                    8.479813590234674,
                    8.448207870041738,
                    8.416922139458304,
                    8.385941060335318,
                    8.355249262515473,
                    8.324831356226609,
                    8.294671944412247,
                    8.264755634989188,
                    8.235067053022346,
                    8.20559085280724,
                    8.176311729850294,
                    8.147214432737478,
                    8.118283774881991,
                    8.089504646141615,
                    8.060862024296696,
                    8.032340986379724,
                    8.003926719847799,
                    7.975604533589315,
                    7.947359868756402,
                    7.919178309414891,
                    7.891045593003811,
                    7.862947620596391,
                    7.834870466955143,
                    7.806800390373429,
                    7.77872384229639,
                    7.750627476714318,
                    7.722498159321645,
                    7.694322976435147,
                    7.666089243665116,
                    7.63778451433355,
                    7.609396587633618,
                    7.580913516524996,
                    7.55232361535993,
                    7.523615467235067,
                    7.494777931064555,
                    7.46580014836993,
                    7.436671549783017,
                    7.4073818612578055,
                    7.377921109988086,
                    7.348279630027575,
                    7.318448067609748,
                    7.288417386164773,
                    7.258178871031344,
                    7.227724133861456,
                    7.1970451167164855,
                    7.1661340958531925,
                    7.134983685198708,
                    7.10358683951371,
                    7.071936857243358,
                    7.040027383055895,
                    7.007852410069082,
                    6.975406281764935,
                    6.942683693593533,
                    6.909679694266948,
                    6.876389686744717,
                    6.842809428912423,
                    6.8089350339553425,
                    6.774762970429358,
                    6.740290062031689
                  ],
                  "yaxis": "y"
                }
              ],
              "layout": {
                "barmode": "overlay",
                "font": {
                  "color": "black",
                  "family": "Arial",
                  "size": 12
                },
                "hovermode": "closest",
                "legend": {
                  "traceorder": "reversed"
                },
                "template": {
                  "data": {
                    "bar": [
                      {
                        "error_x": {
                          "color": "rgb(36,36,36)"
                        },
                        "error_y": {
                          "color": "rgb(36,36,36)"
                        },
                        "marker": {
                          "line": {
                            "color": "white",
                            "width": 0.5
                          },
                          "pattern": {
                            "fillmode": "overlay",
                            "size": 10,
                            "solidity": 0.2
                          }
                        },
                        "type": "bar"
                      }
                    ],
                    "barpolar": [
                      {
                        "marker": {
                          "line": {
                            "color": "white",
                            "width": 0.5
                          },
                          "pattern": {
                            "fillmode": "overlay",
                            "size": 10,
                            "solidity": 0.2
                          }
                        },
                        "type": "barpolar"
                      }
                    ],
                    "carpet": [
                      {
                        "aaxis": {
                          "endlinecolor": "rgb(36,36,36)",
                          "gridcolor": "white",
                          "linecolor": "white",
                          "minorgridcolor": "white",
                          "startlinecolor": "rgb(36,36,36)"
                        },
                        "baxis": {
                          "endlinecolor": "rgb(36,36,36)",
                          "gridcolor": "white",
                          "linecolor": "white",
                          "minorgridcolor": "white",
                          "startlinecolor": "rgb(36,36,36)"
                        },
                        "type": "carpet"
                      }
                    ],
                    "choropleth": [
                      {
                        "colorbar": {
                          "outlinewidth": 1,
                          "tickcolor": "rgb(36,36,36)",
                          "ticks": "outside"
                        },
                        "type": "choropleth"
                      }
                    ],
                    "contour": [
                      {
                        "colorbar": {
                          "outlinewidth": 1,
                          "tickcolor": "rgb(36,36,36)",
                          "ticks": "outside"
                        },
                        "colorscale": [
                          [
                            0,
                            "#440154"
                          ],
                          [
                            0.1111111111111111,
                            "#482878"
                          ],
                          [
                            0.2222222222222222,
                            "#3e4989"
                          ],
                          [
                            0.3333333333333333,
                            "#31688e"
                          ],
                          [
                            0.4444444444444444,
                            "#26828e"
                          ],
                          [
                            0.5555555555555556,
                            "#1f9e89"
                          ],
                          [
                            0.6666666666666666,
                            "#35b779"
                          ],
                          [
                            0.7777777777777778,
                            "#6ece58"
                          ],
                          [
                            0.8888888888888888,
                            "#b5de2b"
                          ],
                          [
                            1,
                            "#fde725"
                          ]
                        ],
                        "type": "contour"
                      }
                    ],
                    "contourcarpet": [
                      {
                        "colorbar": {
                          "outlinewidth": 1,
                          "tickcolor": "rgb(36,36,36)",
                          "ticks": "outside"
                        },
                        "type": "contourcarpet"
                      }
                    ],
                    "heatmap": [
                      {
                        "colorbar": {
                          "outlinewidth": 1,
                          "tickcolor": "rgb(36,36,36)",
                          "ticks": "outside"
                        },
                        "colorscale": [
                          [
                            0,
                            "#440154"
                          ],
                          [
                            0.1111111111111111,
                            "#482878"
                          ],
                          [
                            0.2222222222222222,
                            "#3e4989"
                          ],
                          [
                            0.3333333333333333,
                            "#31688e"
                          ],
                          [
                            0.4444444444444444,
                            "#26828e"
                          ],
                          [
                            0.5555555555555556,
                            "#1f9e89"
                          ],
                          [
                            0.6666666666666666,
                            "#35b779"
                          ],
                          [
                            0.7777777777777778,
                            "#6ece58"
                          ],
                          [
                            0.8888888888888888,
                            "#b5de2b"
                          ],
                          [
                            1,
                            "#fde725"
                          ]
                        ],
                        "type": "heatmap"
                      }
                    ],
                    "heatmapgl": [
                      {
                        "colorbar": {
                          "outlinewidth": 1,
                          "tickcolor": "rgb(36,36,36)",
                          "ticks": "outside"
                        },
                        "colorscale": [
                          [
                            0,
                            "#440154"
                          ],
                          [
                            0.1111111111111111,
                            "#482878"
                          ],
                          [
                            0.2222222222222222,
                            "#3e4989"
                          ],
                          [
                            0.3333333333333333,
                            "#31688e"
                          ],
                          [
                            0.4444444444444444,
                            "#26828e"
                          ],
                          [
                            0.5555555555555556,
                            "#1f9e89"
                          ],
                          [
                            0.6666666666666666,
                            "#35b779"
                          ],
                          [
                            0.7777777777777778,
                            "#6ece58"
                          ],
                          [
                            0.8888888888888888,
                            "#b5de2b"
                          ],
                          [
                            1,
                            "#fde725"
                          ]
                        ],
                        "type": "heatmapgl"
                      }
                    ],
                    "histogram": [
                      {
                        "marker": {
                          "line": {
                            "color": "white",
                            "width": 0.6
                          }
                        },
                        "type": "histogram"
                      }
                    ],
                    "histogram2d": [
                      {
                        "colorbar": {
                          "outlinewidth": 1,
                          "tickcolor": "rgb(36,36,36)",
                          "ticks": "outside"
                        },
                        "colorscale": [
                          [
                            0,
                            "#440154"
                          ],
                          [
                            0.1111111111111111,
                            "#482878"
                          ],
                          [
                            0.2222222222222222,
                            "#3e4989"
                          ],
                          [
                            0.3333333333333333,
                            "#31688e"
                          ],
                          [
                            0.4444444444444444,
                            "#26828e"
                          ],
                          [
                            0.5555555555555556,
                            "#1f9e89"
                          ],
                          [
                            0.6666666666666666,
                            "#35b779"
                          ],
                          [
                            0.7777777777777778,
                            "#6ece58"
                          ],
                          [
                            0.8888888888888888,
                            "#b5de2b"
                          ],
                          [
                            1,
                            "#fde725"
                          ]
                        ],
                        "type": "histogram2d"
                      }
                    ],
                    "histogram2dcontour": [
                      {
                        "colorbar": {
                          "outlinewidth": 1,
                          "tickcolor": "rgb(36,36,36)",
                          "ticks": "outside"
                        },
                        "colorscale": [
                          [
                            0,
                            "#440154"
                          ],
                          [
                            0.1111111111111111,
                            "#482878"
                          ],
                          [
                            0.2222222222222222,
                            "#3e4989"
                          ],
                          [
                            0.3333333333333333,
                            "#31688e"
                          ],
                          [
                            0.4444444444444444,
                            "#26828e"
                          ],
                          [
                            0.5555555555555556,
                            "#1f9e89"
                          ],
                          [
                            0.6666666666666666,
                            "#35b779"
                          ],
                          [
                            0.7777777777777778,
                            "#6ece58"
                          ],
                          [
                            0.8888888888888888,
                            "#b5de2b"
                          ],
                          [
                            1,
                            "#fde725"
                          ]
                        ],
                        "type": "histogram2dcontour"
                      }
                    ],
                    "mesh3d": [
                      {
                        "colorbar": {
                          "outlinewidth": 1,
                          "tickcolor": "rgb(36,36,36)",
                          "ticks": "outside"
                        },
                        "type": "mesh3d"
                      }
                    ],
                    "parcoords": [
                      {
                        "line": {
                          "colorbar": {
                            "outlinewidth": 1,
                            "tickcolor": "rgb(36,36,36)",
                            "ticks": "outside"
                          }
                        },
                        "type": "parcoords"
                      }
                    ],
                    "pie": [
                      {
                        "automargin": true,
                        "type": "pie"
                      }
                    ],
                    "scatter": [
                      {
                        "marker": {
                          "colorbar": {
                            "outlinewidth": 1,
                            "tickcolor": "rgb(36,36,36)",
                            "ticks": "outside"
                          }
                        },
                        "type": "scatter"
                      }
                    ],
                    "scatter3d": [
                      {
                        "line": {
                          "colorbar": {
                            "outlinewidth": 1,
                            "tickcolor": "rgb(36,36,36)",
                            "ticks": "outside"
                          }
                        },
                        "marker": {
                          "colorbar": {
                            "outlinewidth": 1,
                            "tickcolor": "rgb(36,36,36)",
                            "ticks": "outside"
                          }
                        },
                        "type": "scatter3d"
                      }
                    ],
                    "scattercarpet": [
                      {
                        "marker": {
                          "colorbar": {
                            "outlinewidth": 1,
                            "tickcolor": "rgb(36,36,36)",
                            "ticks": "outside"
                          }
                        },
                        "type": "scattercarpet"
                      }
                    ],
                    "scattergeo": [
                      {
                        "marker": {
                          "colorbar": {
                            "outlinewidth": 1,
                            "tickcolor": "rgb(36,36,36)",
                            "ticks": "outside"
                          }
                        },
                        "type": "scattergeo"
                      }
                    ],
                    "scattergl": [
                      {
                        "marker": {
                          "colorbar": {
                            "outlinewidth": 1,
                            "tickcolor": "rgb(36,36,36)",
                            "ticks": "outside"
                          }
                        },
                        "type": "scattergl"
                      }
                    ],
                    "scattermapbox": [
                      {
                        "marker": {
                          "colorbar": {
                            "outlinewidth": 1,
                            "tickcolor": "rgb(36,36,36)",
                            "ticks": "outside"
                          }
                        },
                        "type": "scattermapbox"
                      }
                    ],
                    "scatterpolar": [
                      {
                        "marker": {
                          "colorbar": {
                            "outlinewidth": 1,
                            "tickcolor": "rgb(36,36,36)",
                            "ticks": "outside"
                          }
                        },
                        "type": "scatterpolar"
                      }
                    ],
                    "scatterpolargl": [
                      {
                        "marker": {
                          "colorbar": {
                            "outlinewidth": 1,
                            "tickcolor": "rgb(36,36,36)",
                            "ticks": "outside"
                          }
                        },
                        "type": "scatterpolargl"
                      }
                    ],
                    "scatterternary": [
                      {
                        "marker": {
                          "colorbar": {
                            "outlinewidth": 1,
                            "tickcolor": "rgb(36,36,36)",
                            "ticks": "outside"
                          }
                        },
                        "type": "scatterternary"
                      }
                    ],
                    "surface": [
                      {
                        "colorbar": {
                          "outlinewidth": 1,
                          "tickcolor": "rgb(36,36,36)",
                          "ticks": "outside"
                        },
                        "colorscale": [
                          [
                            0,
                            "#440154"
                          ],
                          [
                            0.1111111111111111,
                            "#482878"
                          ],
                          [
                            0.2222222222222222,
                            "#3e4989"
                          ],
                          [
                            0.3333333333333333,
                            "#31688e"
                          ],
                          [
                            0.4444444444444444,
                            "#26828e"
                          ],
                          [
                            0.5555555555555556,
                            "#1f9e89"
                          ],
                          [
                            0.6666666666666666,
                            "#35b779"
                          ],
                          [
                            0.7777777777777778,
                            "#6ece58"
                          ],
                          [
                            0.8888888888888888,
                            "#b5de2b"
                          ],
                          [
                            1,
                            "#fde725"
                          ]
                        ],
                        "type": "surface"
                      }
                    ],
                    "table": [
                      {
                        "cells": {
                          "fill": {
                            "color": "rgb(237,237,237)"
                          },
                          "line": {
                            "color": "white"
                          }
                        },
                        "header": {
                          "fill": {
                            "color": "rgb(217,217,217)"
                          },
                          "line": {
                            "color": "white"
                          }
                        },
                        "type": "table"
                      }
                    ]
                  },
                  "layout": {
                    "annotationdefaults": {
                      "arrowhead": 0,
                      "arrowwidth": 1
                    },
                    "autotypenumbers": "strict",
                    "coloraxis": {
                      "colorbar": {
                        "outlinewidth": 1,
                        "tickcolor": "rgb(36,36,36)",
                        "ticks": "outside"
                      }
                    },
                    "colorscale": {
                      "diverging": [
                        [
                          0,
                          "rgb(103,0,31)"
                        ],
                        [
                          0.1,
                          "rgb(178,24,43)"
                        ],
                        [
                          0.2,
                          "rgb(214,96,77)"
                        ],
                        [
                          0.3,
                          "rgb(244,165,130)"
                        ],
                        [
                          0.4,
                          "rgb(253,219,199)"
                        ],
                        [
                          0.5,
                          "rgb(247,247,247)"
                        ],
                        [
                          0.6,
                          "rgb(209,229,240)"
                        ],
                        [
                          0.7,
                          "rgb(146,197,222)"
                        ],
                        [
                          0.8,
                          "rgb(67,147,195)"
                        ],
                        [
                          0.9,
                          "rgb(33,102,172)"
                        ],
                        [
                          1,
                          "rgb(5,48,97)"
                        ]
                      ],
                      "sequential": [
                        [
                          0,
                          "#440154"
                        ],
                        [
                          0.1111111111111111,
                          "#482878"
                        ],
                        [
                          0.2222222222222222,
                          "#3e4989"
                        ],
                        [
                          0.3333333333333333,
                          "#31688e"
                        ],
                        [
                          0.4444444444444444,
                          "#26828e"
                        ],
                        [
                          0.5555555555555556,
                          "#1f9e89"
                        ],
                        [
                          0.6666666666666666,
                          "#35b779"
                        ],
                        [
                          0.7777777777777778,
                          "#6ece58"
                        ],
                        [
                          0.8888888888888888,
                          "#b5de2b"
                        ],
                        [
                          1,
                          "#fde725"
                        ]
                      ],
                      "sequentialminus": [
                        [
                          0,
                          "#440154"
                        ],
                        [
                          0.1111111111111111,
                          "#482878"
                        ],
                        [
                          0.2222222222222222,
                          "#3e4989"
                        ],
                        [
                          0.3333333333333333,
                          "#31688e"
                        ],
                        [
                          0.4444444444444444,
                          "#26828e"
                        ],
                        [
                          0.5555555555555556,
                          "#1f9e89"
                        ],
                        [
                          0.6666666666666666,
                          "#35b779"
                        ],
                        [
                          0.7777777777777778,
                          "#6ece58"
                        ],
                        [
                          0.8888888888888888,
                          "#b5de2b"
                        ],
                        [
                          1,
                          "#fde725"
                        ]
                      ]
                    },
                    "colorway": [
                      "#1F77B4",
                      "#FF7F0E",
                      "#2CA02C",
                      "#D62728",
                      "#9467BD",
                      "#8C564B",
                      "#E377C2",
                      "#7F7F7F",
                      "#BCBD22",
                      "#17BECF"
                    ],
                    "font": {
                      "color": "rgb(36,36,36)"
                    },
                    "geo": {
                      "bgcolor": "white",
                      "lakecolor": "white",
                      "landcolor": "white",
                      "showlakes": true,
                      "showland": true,
                      "subunitcolor": "white"
                    },
                    "hoverlabel": {
                      "align": "left"
                    },
                    "hovermode": "closest",
                    "mapbox": {
                      "style": "light"
                    },
                    "paper_bgcolor": "white",
                    "plot_bgcolor": "white",
                    "polar": {
                      "angularaxis": {
                        "gridcolor": "rgb(232,232,232)",
                        "linecolor": "rgb(36,36,36)",
                        "showgrid": false,
                        "showline": true,
                        "ticks": "outside"
                      },
                      "bgcolor": "white",
                      "radialaxis": {
                        "gridcolor": "rgb(232,232,232)",
                        "linecolor": "rgb(36,36,36)",
                        "showgrid": false,
                        "showline": true,
                        "ticks": "outside"
                      }
                    },
                    "scene": {
                      "xaxis": {
                        "backgroundcolor": "white",
                        "gridcolor": "rgb(232,232,232)",
                        "gridwidth": 2,
                        "linecolor": "rgb(36,36,36)",
                        "showbackground": true,
                        "showgrid": false,
                        "showline": true,
                        "ticks": "outside",
                        "zeroline": false,
                        "zerolinecolor": "rgb(36,36,36)"
                      },
                      "yaxis": {
                        "backgroundcolor": "white",
                        "gridcolor": "rgb(232,232,232)",
                        "gridwidth": 2,
                        "linecolor": "rgb(36,36,36)",
                        "showbackground": true,
                        "showgrid": false,
                        "showline": true,
                        "ticks": "outside",
                        "zeroline": false,
                        "zerolinecolor": "rgb(36,36,36)"
                      },
                      "zaxis": {
                        "backgroundcolor": "white",
                        "gridcolor": "rgb(232,232,232)",
                        "gridwidth": 2,
                        "linecolor": "rgb(36,36,36)",
                        "showbackground": true,
                        "showgrid": false,
                        "showline": true,
                        "ticks": "outside",
                        "zeroline": false,
                        "zerolinecolor": "rgb(36,36,36)"
                      }
                    },
                    "shapedefaults": {
                      "fillcolor": "black",
                      "line": {
                        "width": 0
                      },
                      "opacity": 0.3
                    },
                    "ternary": {
                      "aaxis": {
                        "gridcolor": "rgb(232,232,232)",
                        "linecolor": "rgb(36,36,36)",
                        "showgrid": false,
                        "showline": true,
                        "ticks": "outside"
                      },
                      "baxis": {
                        "gridcolor": "rgb(232,232,232)",
                        "linecolor": "rgb(36,36,36)",
                        "showgrid": false,
                        "showline": true,
                        "ticks": "outside"
                      },
                      "bgcolor": "white",
                      "caxis": {
                        "gridcolor": "rgb(232,232,232)",
                        "linecolor": "rgb(36,36,36)",
                        "showgrid": false,
                        "showline": true,
                        "ticks": "outside"
                      }
                    },
                    "title": {
                      "x": 0.05
                    },
                    "xaxis": {
                      "automargin": true,
                      "gridcolor": "rgb(232,232,232)",
                      "linecolor": "rgb(36,36,36)",
                      "showgrid": false,
                      "showline": true,
                      "ticks": "outside",
                      "title": {
                        "standoff": 15
                      },
                      "zeroline": false,
                      "zerolinecolor": "rgb(36,36,36)"
                    },
                    "yaxis": {
                      "automargin": true,
                      "gridcolor": "rgb(232,232,232)",
                      "linecolor": "rgb(36,36,36)",
                      "showgrid": false,
                      "showline": true,
                      "ticks": "outside",
                      "title": {
                        "standoff": 15
                      },
                      "zeroline": false,
                      "zerolinecolor": "rgb(36,36,36)"
                    }
                  }
                },
                "title": {
                  "text": "Distribution Of Ozone"
                },
                "xaxis": {
                  "anchor": "y2",
                  "domain": [
                    0,
                    1
                  ],
                  "zeroline": false
                },
                "yaxis": {
                  "anchor": "free",
                  "domain": [
                    0,
                    1
                  ],
                  "position": 0
                }
              }
            }
          },
          "metadata": {},
          "output_type": "display_data"
        }
      ],
      "source": [
        "# Create distplot with curve_type set to 'normal'\n",
        "fig_10 = ff.create_distplot([sample], \n",
        "                         ['90th Percentile'], \n",
        "                         colors=['salmon'],\n",
        "                         bin_size=.1, \n",
        "                         show_rug=False)\n",
        "\n",
        "# Add title\n",
        "fig_10.update_layout(title_text='Distribution Of Ozone', \n",
        "                     template='simple_white',\n",
        "                     font=dict(family='Arial', size=12, color='black'))\n",
        "fig_10.show()"
      ]
    },
    {
      "cell_type": "markdown",
      "metadata": {
        "id": "UOzjBWHlLlCO"
      },
      "source": [
        "#### **Conclusion**\n",
        "* I failed to reject the null hypothesis and I concluded that there is no difference between Ozone of highs and Ozone of lows.\n",
        "* For hypothesis testing  considered data of insurance price based on different health parameter.\n",
        "* I formulated a hypothesis, but based on the observation (P and alpha), the hypothesis failed and the it was observed that there is no difference between Ozone of highs and Lows."
      ]
    }
  ],
  "metadata": {
    "colab": {
      "name": "Ds_expt4.ipynb",
      "provenance": []
    },
    "kernelspec": {
      "display_name": "Python 3",
      "name": "python3"
    },
    "language_info": {
      "codemirror_mode": {
        "name": "ipython",
        "version": 3
      },
      "file_extension": ".py",
      "mimetype": "text/x-python",
      "name": "python",
      "nbconvert_exporter": "python",
      "pygments_lexer": "ipython3",
      "version": "3.9.7"
    }
  },
  "nbformat": 4,
  "nbformat_minor": 0
}
